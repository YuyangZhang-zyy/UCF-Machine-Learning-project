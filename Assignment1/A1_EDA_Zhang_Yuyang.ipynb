{
  "nbformat": 4,
  "nbformat_minor": 0,
  "metadata": {
    "colab": {
      "provenance": [],
      "collapsed_sections": [
        "z0RatGCRZYX4",
        "51riiwHpZdGU",
        "tgpSxPZLa3S7",
        "DhrdsUo3Z3ic",
        "cPzHm4hdaBjF",
        "VriCR3uJcqG3",
        "ZVg4ruKfdLty",
        "FB0vFYlYdTZu",
        "vD4Ueqy1dcIn",
        "awGVHHvHdrSl",
        "UZYP8MSzeEuJ",
        "6s8VXFZlg1aa",
        "LlUD3o8Z7CwT",
        "33BHNCaxpfls",
        "VY9zrGalG13T",
        "sjmMrrWBrMMT",
        "qzoqmczG8ZtJ",
        "0zbrG6toCPnD",
        "7SljwTh_IhBa"
      ]
    },
    "kernelspec": {
      "name": "python3",
      "display_name": "Python 3"
    },
    "language_info": {
      "name": "python"
    }
  },
  "cells": [
    {
      "cell_type": "markdown",
      "source": [
        "# This jupyter notebook is prepared by \"Yuyang Zhang\"."
      ],
      "metadata": {
        "id": "spL0XEtgujEq"
      }
    },
    {
      "cell_type": "markdown",
      "source": [
        "### 1. Run the block below to upload the dataset. (Note that the file list gets refreshed every time your runtime is disconnected. Simply run this when you return to upload the file again using the files API. Once you run, it should wait for you to upload the file. (1pt) "
      ],
      "metadata": {
        "id": "z0RatGCRZYX4"
      }
    },
    {
      "cell_type": "code",
      "execution_count": 1,
      "metadata": {
        "colab": {
          "base_uri": "https://localhost:8080/",
          "height": 76
        },
        "id": "zP5kvG6TAEuN",
        "outputId": "1de04f68-7276-4255-ae59-50cc51d26da3"
      },
      "outputs": [
        {
          "output_type": "display_data",
          "data": {
            "text/plain": [
              "<IPython.core.display.HTML object>"
            ],
            "text/html": [
              "\n",
              "     <input type=\"file\" id=\"files-5c8fb605-324d-4c02-af1e-1bb8fc2d8ba6\" name=\"files[]\" multiple disabled\n",
              "        style=\"border:none\" />\n",
              "     <output id=\"result-5c8fb605-324d-4c02-af1e-1bb8fc2d8ba6\">\n",
              "      Upload widget is only available when the cell has been executed in the\n",
              "      current browser session. Please rerun this cell to enable.\n",
              "      </output>\n",
              "      <script>// Copyright 2017 Google LLC\n",
              "//\n",
              "// Licensed under the Apache License, Version 2.0 (the \"License\");\n",
              "// you may not use this file except in compliance with the License.\n",
              "// You may obtain a copy of the License at\n",
              "//\n",
              "//      http://www.apache.org/licenses/LICENSE-2.0\n",
              "//\n",
              "// Unless required by applicable law or agreed to in writing, software\n",
              "// distributed under the License is distributed on an \"AS IS\" BASIS,\n",
              "// WITHOUT WARRANTIES OR CONDITIONS OF ANY KIND, either express or implied.\n",
              "// See the License for the specific language governing permissions and\n",
              "// limitations under the License.\n",
              "\n",
              "/**\n",
              " * @fileoverview Helpers for google.colab Python module.\n",
              " */\n",
              "(function(scope) {\n",
              "function span(text, styleAttributes = {}) {\n",
              "  const element = document.createElement('span');\n",
              "  element.textContent = text;\n",
              "  for (const key of Object.keys(styleAttributes)) {\n",
              "    element.style[key] = styleAttributes[key];\n",
              "  }\n",
              "  return element;\n",
              "}\n",
              "\n",
              "// Max number of bytes which will be uploaded at a time.\n",
              "const MAX_PAYLOAD_SIZE = 100 * 1024;\n",
              "\n",
              "function _uploadFiles(inputId, outputId) {\n",
              "  const steps = uploadFilesStep(inputId, outputId);\n",
              "  const outputElement = document.getElementById(outputId);\n",
              "  // Cache steps on the outputElement to make it available for the next call\n",
              "  // to uploadFilesContinue from Python.\n",
              "  outputElement.steps = steps;\n",
              "\n",
              "  return _uploadFilesContinue(outputId);\n",
              "}\n",
              "\n",
              "// This is roughly an async generator (not supported in the browser yet),\n",
              "// where there are multiple asynchronous steps and the Python side is going\n",
              "// to poll for completion of each step.\n",
              "// This uses a Promise to block the python side on completion of each step,\n",
              "// then passes the result of the previous step as the input to the next step.\n",
              "function _uploadFilesContinue(outputId) {\n",
              "  const outputElement = document.getElementById(outputId);\n",
              "  const steps = outputElement.steps;\n",
              "\n",
              "  const next = steps.next(outputElement.lastPromiseValue);\n",
              "  return Promise.resolve(next.value.promise).then((value) => {\n",
              "    // Cache the last promise value to make it available to the next\n",
              "    // step of the generator.\n",
              "    outputElement.lastPromiseValue = value;\n",
              "    return next.value.response;\n",
              "  });\n",
              "}\n",
              "\n",
              "/**\n",
              " * Generator function which is called between each async step of the upload\n",
              " * process.\n",
              " * @param {string} inputId Element ID of the input file picker element.\n",
              " * @param {string} outputId Element ID of the output display.\n",
              " * @return {!Iterable<!Object>} Iterable of next steps.\n",
              " */\n",
              "function* uploadFilesStep(inputId, outputId) {\n",
              "  const inputElement = document.getElementById(inputId);\n",
              "  inputElement.disabled = false;\n",
              "\n",
              "  const outputElement = document.getElementById(outputId);\n",
              "  outputElement.innerHTML = '';\n",
              "\n",
              "  const pickedPromise = new Promise((resolve) => {\n",
              "    inputElement.addEventListener('change', (e) => {\n",
              "      resolve(e.target.files);\n",
              "    });\n",
              "  });\n",
              "\n",
              "  const cancel = document.createElement('button');\n",
              "  inputElement.parentElement.appendChild(cancel);\n",
              "  cancel.textContent = 'Cancel upload';\n",
              "  const cancelPromise = new Promise((resolve) => {\n",
              "    cancel.onclick = () => {\n",
              "      resolve(null);\n",
              "    };\n",
              "  });\n",
              "\n",
              "  // Wait for the user to pick the files.\n",
              "  const files = yield {\n",
              "    promise: Promise.race([pickedPromise, cancelPromise]),\n",
              "    response: {\n",
              "      action: 'starting',\n",
              "    }\n",
              "  };\n",
              "\n",
              "  cancel.remove();\n",
              "\n",
              "  // Disable the input element since further picks are not allowed.\n",
              "  inputElement.disabled = true;\n",
              "\n",
              "  if (!files) {\n",
              "    return {\n",
              "      response: {\n",
              "        action: 'complete',\n",
              "      }\n",
              "    };\n",
              "  }\n",
              "\n",
              "  for (const file of files) {\n",
              "    const li = document.createElement('li');\n",
              "    li.append(span(file.name, {fontWeight: 'bold'}));\n",
              "    li.append(span(\n",
              "        `(${file.type || 'n/a'}) - ${file.size} bytes, ` +\n",
              "        `last modified: ${\n",
              "            file.lastModifiedDate ? file.lastModifiedDate.toLocaleDateString() :\n",
              "                                    'n/a'} - `));\n",
              "    const percent = span('0% done');\n",
              "    li.appendChild(percent);\n",
              "\n",
              "    outputElement.appendChild(li);\n",
              "\n",
              "    const fileDataPromise = new Promise((resolve) => {\n",
              "      const reader = new FileReader();\n",
              "      reader.onload = (e) => {\n",
              "        resolve(e.target.result);\n",
              "      };\n",
              "      reader.readAsArrayBuffer(file);\n",
              "    });\n",
              "    // Wait for the data to be ready.\n",
              "    let fileData = yield {\n",
              "      promise: fileDataPromise,\n",
              "      response: {\n",
              "        action: 'continue',\n",
              "      }\n",
              "    };\n",
              "\n",
              "    // Use a chunked sending to avoid message size limits. See b/62115660.\n",
              "    let position = 0;\n",
              "    do {\n",
              "      const length = Math.min(fileData.byteLength - position, MAX_PAYLOAD_SIZE);\n",
              "      const chunk = new Uint8Array(fileData, position, length);\n",
              "      position += length;\n",
              "\n",
              "      const base64 = btoa(String.fromCharCode.apply(null, chunk));\n",
              "      yield {\n",
              "        response: {\n",
              "          action: 'append',\n",
              "          file: file.name,\n",
              "          data: base64,\n",
              "        },\n",
              "      };\n",
              "\n",
              "      let percentDone = fileData.byteLength === 0 ?\n",
              "          100 :\n",
              "          Math.round((position / fileData.byteLength) * 100);\n",
              "      percent.textContent = `${percentDone}% done`;\n",
              "\n",
              "    } while (position < fileData.byteLength);\n",
              "  }\n",
              "\n",
              "  // All done.\n",
              "  yield {\n",
              "    response: {\n",
              "      action: 'complete',\n",
              "    }\n",
              "  };\n",
              "}\n",
              "\n",
              "scope.google = scope.google || {};\n",
              "scope.google.colab = scope.google.colab || {};\n",
              "scope.google.colab._files = {\n",
              "  _uploadFiles,\n",
              "  _uploadFilesContinue,\n",
              "};\n",
              "})(self);\n",
              "</script> "
            ]
          },
          "metadata": {}
        },
        {
          "output_type": "stream",
          "name": "stdout",
          "text": [
            "Saving startup_info_.csv to startup_info_.csv\n"
          ]
        }
      ],
      "source": [
        "from google.colab import files\n",
        "uploaded = files.upload()"
      ]
    },
    {
      "cell_type": "markdown",
      "source": [
        "### 2. Import numpy, pandas, matplotlib.pyplot and seaborn packages. (2pt)\n",
        "###### If you need additional packages, you can import it on the go in any code-block below."
      ],
      "metadata": {
        "id": "51riiwHpZdGU"
      }
    },
    {
      "cell_type": "code",
      "source": [
        "#TODO\n",
        "import numpy as np\n",
        "import pandas as pd\n",
        "import matplotlib.pyplot as plt\n",
        "import seaborn as sns\n",
        "import scipy.stats as st\n",
        "from sklearn.preprocessing import LabelEncoder\n",
        "from scipy.stats import skew\n",
        "from sklearn.preprocessing import MaxAbsScaler\n",
        "from sklearn.preprocessing import MinMaxScaler"
      ],
      "metadata": {
        "id": "Af42g4HJA0EJ"
      },
      "execution_count": 2,
      "outputs": []
    },
    {
      "cell_type": "markdown",
      "source": [
        "### 3. Import the dataset into a pandas dataframe. Then report how many rows and columns are present in the dataset. (2pt)"
      ],
      "metadata": {
        "id": "tgpSxPZLa3S7"
      }
    },
    {
      "cell_type": "code",
      "source": [
        "#TODO\n",
        "df = pd.read_csv('/content/startup_info_.csv')\n",
        "df.shape"
      ],
      "metadata": {
        "id": "dd4FeivqA7wn",
        "colab": {
          "base_uri": "https://localhost:8080/"
        },
        "outputId": "36974a3b-cbbd-410e-9540-e9cff606427a"
      },
      "execution_count": 3,
      "outputs": [
        {
          "output_type": "execute_result",
          "data": {
            "text/plain": [
              "(923, 28)"
            ]
          },
          "metadata": {},
          "execution_count": 3
        }
      ]
    },
    {
      "cell_type": "markdown",
      "source": [
        "### 4. Call the describe method to see summary statistics of the numerical attribute columns. (1pt)"
      ],
      "metadata": {
        "id": "DhrdsUo3Z3ic"
      }
    },
    {
      "cell_type": "code",
      "source": [
        "#TODO\n",
        "df.describe()"
      ],
      "metadata": {
        "id": "JzD8fzg2a1PV",
        "colab": {
          "base_uri": "https://localhost:8080/",
          "height": 364
        },
        "outputId": "9aa05049-712b-4ef9-8b9d-5b1d3eb0ad10"
      },
      "execution_count": 4,
      "outputs": [
        {
          "output_type": "execute_result",
          "data": {
            "text/plain": [
              "        Unnamed: 0    latitude   longitude      labels  \\\n",
              "count   923.000000  923.000000  923.000000  923.000000   \n",
              "mean    572.297941   38.517442 -103.539212    0.646804   \n",
              "std     333.585431    3.741497   22.394167    0.478222   \n",
              "min       1.000000   25.752358 -122.756956    0.000000   \n",
              "25%     283.500000   37.388869 -122.198732    0.000000   \n",
              "50%     577.000000   37.779281 -118.374037    1.000000   \n",
              "75%     866.500000   40.730646  -77.214731    1.000000   \n",
              "max    1153.000000   59.335232   18.057121    1.000000   \n",
              "\n",
              "       age_first_funding_year  age_last_funding_year  \\\n",
              "count              923.000000             923.000000   \n",
              "mean                 2.235630               3.931456   \n",
              "std                  2.510449               2.967910   \n",
              "min                 -9.046600              -9.046600   \n",
              "25%                  0.576700               1.669850   \n",
              "50%                  1.446600               3.528800   \n",
              "75%                  3.575350               5.560250   \n",
              "max                 21.895900              21.895900   \n",
              "\n",
              "       age_first_milestone_year  age_last_milestone_year  relationships  \\\n",
              "count                771.000000               771.000000     923.000000   \n",
              "mean                   3.055353                 4.754423       7.710726   \n",
              "std                    2.977057                 3.212107       7.265776   \n",
              "min                  -14.169900                -7.005500       0.000000   \n",
              "25%                    1.000000                 2.411000       3.000000   \n",
              "50%                    2.520500                 4.476700       5.000000   \n",
              "75%                    4.686300                 6.753400      10.000000   \n",
              "max                   24.684900                24.684900      63.000000   \n",
              "\n",
              "       funding_rounds  funding_total_usd  milestones  avg_participants  \\\n",
              "count      923.000000       9.230000e+02  923.000000        923.000000   \n",
              "mean         2.310943       2.541975e+07    1.841820          2.838586   \n",
              "std          1.390922       1.896344e+08    1.322632          1.874601   \n",
              "min          1.000000       1.100000e+04    0.000000          1.000000   \n",
              "25%          1.000000       2.725000e+06    1.000000          1.500000   \n",
              "50%          2.000000       1.000000e+07    2.000000          2.500000   \n",
              "75%          3.000000       2.472500e+07    3.000000          3.800000   \n",
              "max         10.000000       5.700000e+09    8.000000         16.000000   \n",
              "\n",
              "        is_top500  \n",
              "count  923.000000  \n",
              "mean     0.809317  \n",
              "std      0.393052  \n",
              "min      0.000000  \n",
              "25%      1.000000  \n",
              "50%      1.000000  \n",
              "75%      1.000000  \n",
              "max      1.000000  "
            ],
            "text/html": [
              "\n",
              "  <div id=\"df-b9e87e60-a704-4d7e-b9a7-6cc4be6b286f\">\n",
              "    <div class=\"colab-df-container\">\n",
              "      <div>\n",
              "<style scoped>\n",
              "    .dataframe tbody tr th:only-of-type {\n",
              "        vertical-align: middle;\n",
              "    }\n",
              "\n",
              "    .dataframe tbody tr th {\n",
              "        vertical-align: top;\n",
              "    }\n",
              "\n",
              "    .dataframe thead th {\n",
              "        text-align: right;\n",
              "    }\n",
              "</style>\n",
              "<table border=\"1\" class=\"dataframe\">\n",
              "  <thead>\n",
              "    <tr style=\"text-align: right;\">\n",
              "      <th></th>\n",
              "      <th>Unnamed: 0</th>\n",
              "      <th>latitude</th>\n",
              "      <th>longitude</th>\n",
              "      <th>labels</th>\n",
              "      <th>age_first_funding_year</th>\n",
              "      <th>age_last_funding_year</th>\n",
              "      <th>age_first_milestone_year</th>\n",
              "      <th>age_last_milestone_year</th>\n",
              "      <th>relationships</th>\n",
              "      <th>funding_rounds</th>\n",
              "      <th>funding_total_usd</th>\n",
              "      <th>milestones</th>\n",
              "      <th>avg_participants</th>\n",
              "      <th>is_top500</th>\n",
              "    </tr>\n",
              "  </thead>\n",
              "  <tbody>\n",
              "    <tr>\n",
              "      <th>count</th>\n",
              "      <td>923.000000</td>\n",
              "      <td>923.000000</td>\n",
              "      <td>923.000000</td>\n",
              "      <td>923.000000</td>\n",
              "      <td>923.000000</td>\n",
              "      <td>923.000000</td>\n",
              "      <td>771.000000</td>\n",
              "      <td>771.000000</td>\n",
              "      <td>923.000000</td>\n",
              "      <td>923.000000</td>\n",
              "      <td>9.230000e+02</td>\n",
              "      <td>923.000000</td>\n",
              "      <td>923.000000</td>\n",
              "      <td>923.000000</td>\n",
              "    </tr>\n",
              "    <tr>\n",
              "      <th>mean</th>\n",
              "      <td>572.297941</td>\n",
              "      <td>38.517442</td>\n",
              "      <td>-103.539212</td>\n",
              "      <td>0.646804</td>\n",
              "      <td>2.235630</td>\n",
              "      <td>3.931456</td>\n",
              "      <td>3.055353</td>\n",
              "      <td>4.754423</td>\n",
              "      <td>7.710726</td>\n",
              "      <td>2.310943</td>\n",
              "      <td>2.541975e+07</td>\n",
              "      <td>1.841820</td>\n",
              "      <td>2.838586</td>\n",
              "      <td>0.809317</td>\n",
              "    </tr>\n",
              "    <tr>\n",
              "      <th>std</th>\n",
              "      <td>333.585431</td>\n",
              "      <td>3.741497</td>\n",
              "      <td>22.394167</td>\n",
              "      <td>0.478222</td>\n",
              "      <td>2.510449</td>\n",
              "      <td>2.967910</td>\n",
              "      <td>2.977057</td>\n",
              "      <td>3.212107</td>\n",
              "      <td>7.265776</td>\n",
              "      <td>1.390922</td>\n",
              "      <td>1.896344e+08</td>\n",
              "      <td>1.322632</td>\n",
              "      <td>1.874601</td>\n",
              "      <td>0.393052</td>\n",
              "    </tr>\n",
              "    <tr>\n",
              "      <th>min</th>\n",
              "      <td>1.000000</td>\n",
              "      <td>25.752358</td>\n",
              "      <td>-122.756956</td>\n",
              "      <td>0.000000</td>\n",
              "      <td>-9.046600</td>\n",
              "      <td>-9.046600</td>\n",
              "      <td>-14.169900</td>\n",
              "      <td>-7.005500</td>\n",
              "      <td>0.000000</td>\n",
              "      <td>1.000000</td>\n",
              "      <td>1.100000e+04</td>\n",
              "      <td>0.000000</td>\n",
              "      <td>1.000000</td>\n",
              "      <td>0.000000</td>\n",
              "    </tr>\n",
              "    <tr>\n",
              "      <th>25%</th>\n",
              "      <td>283.500000</td>\n",
              "      <td>37.388869</td>\n",
              "      <td>-122.198732</td>\n",
              "      <td>0.000000</td>\n",
              "      <td>0.576700</td>\n",
              "      <td>1.669850</td>\n",
              "      <td>1.000000</td>\n",
              "      <td>2.411000</td>\n",
              "      <td>3.000000</td>\n",
              "      <td>1.000000</td>\n",
              "      <td>2.725000e+06</td>\n",
              "      <td>1.000000</td>\n",
              "      <td>1.500000</td>\n",
              "      <td>1.000000</td>\n",
              "    </tr>\n",
              "    <tr>\n",
              "      <th>50%</th>\n",
              "      <td>577.000000</td>\n",
              "      <td>37.779281</td>\n",
              "      <td>-118.374037</td>\n",
              "      <td>1.000000</td>\n",
              "      <td>1.446600</td>\n",
              "      <td>3.528800</td>\n",
              "      <td>2.520500</td>\n",
              "      <td>4.476700</td>\n",
              "      <td>5.000000</td>\n",
              "      <td>2.000000</td>\n",
              "      <td>1.000000e+07</td>\n",
              "      <td>2.000000</td>\n",
              "      <td>2.500000</td>\n",
              "      <td>1.000000</td>\n",
              "    </tr>\n",
              "    <tr>\n",
              "      <th>75%</th>\n",
              "      <td>866.500000</td>\n",
              "      <td>40.730646</td>\n",
              "      <td>-77.214731</td>\n",
              "      <td>1.000000</td>\n",
              "      <td>3.575350</td>\n",
              "      <td>5.560250</td>\n",
              "      <td>4.686300</td>\n",
              "      <td>6.753400</td>\n",
              "      <td>10.000000</td>\n",
              "      <td>3.000000</td>\n",
              "      <td>2.472500e+07</td>\n",
              "      <td>3.000000</td>\n",
              "      <td>3.800000</td>\n",
              "      <td>1.000000</td>\n",
              "    </tr>\n",
              "    <tr>\n",
              "      <th>max</th>\n",
              "      <td>1153.000000</td>\n",
              "      <td>59.335232</td>\n",
              "      <td>18.057121</td>\n",
              "      <td>1.000000</td>\n",
              "      <td>21.895900</td>\n",
              "      <td>21.895900</td>\n",
              "      <td>24.684900</td>\n",
              "      <td>24.684900</td>\n",
              "      <td>63.000000</td>\n",
              "      <td>10.000000</td>\n",
              "      <td>5.700000e+09</td>\n",
              "      <td>8.000000</td>\n",
              "      <td>16.000000</td>\n",
              "      <td>1.000000</td>\n",
              "    </tr>\n",
              "  </tbody>\n",
              "</table>\n",
              "</div>\n",
              "      <button class=\"colab-df-convert\" onclick=\"convertToInteractive('df-b9e87e60-a704-4d7e-b9a7-6cc4be6b286f')\"\n",
              "              title=\"Convert this dataframe to an interactive table.\"\n",
              "              style=\"display:none;\">\n",
              "        \n",
              "  <svg xmlns=\"http://www.w3.org/2000/svg\" height=\"24px\"viewBox=\"0 0 24 24\"\n",
              "       width=\"24px\">\n",
              "    <path d=\"M0 0h24v24H0V0z\" fill=\"none\"/>\n",
              "    <path d=\"M18.56 5.44l.94 2.06.94-2.06 2.06-.94-2.06-.94-.94-2.06-.94 2.06-2.06.94zm-11 1L8.5 8.5l.94-2.06 2.06-.94-2.06-.94L8.5 2.5l-.94 2.06-2.06.94zm10 10l.94 2.06.94-2.06 2.06-.94-2.06-.94-.94-2.06-.94 2.06-2.06.94z\"/><path d=\"M17.41 7.96l-1.37-1.37c-.4-.4-.92-.59-1.43-.59-.52 0-1.04.2-1.43.59L10.3 9.45l-7.72 7.72c-.78.78-.78 2.05 0 2.83L4 21.41c.39.39.9.59 1.41.59.51 0 1.02-.2 1.41-.59l7.78-7.78 2.81-2.81c.8-.78.8-2.07 0-2.86zM5.41 20L4 18.59l7.72-7.72 1.47 1.35L5.41 20z\"/>\n",
              "  </svg>\n",
              "      </button>\n",
              "      \n",
              "  <style>\n",
              "    .colab-df-container {\n",
              "      display:flex;\n",
              "      flex-wrap:wrap;\n",
              "      gap: 12px;\n",
              "    }\n",
              "\n",
              "    .colab-df-convert {\n",
              "      background-color: #E8F0FE;\n",
              "      border: none;\n",
              "      border-radius: 50%;\n",
              "      cursor: pointer;\n",
              "      display: none;\n",
              "      fill: #1967D2;\n",
              "      height: 32px;\n",
              "      padding: 0 0 0 0;\n",
              "      width: 32px;\n",
              "    }\n",
              "\n",
              "    .colab-df-convert:hover {\n",
              "      background-color: #E2EBFA;\n",
              "      box-shadow: 0px 1px 2px rgba(60, 64, 67, 0.3), 0px 1px 3px 1px rgba(60, 64, 67, 0.15);\n",
              "      fill: #174EA6;\n",
              "    }\n",
              "\n",
              "    [theme=dark] .colab-df-convert {\n",
              "      background-color: #3B4455;\n",
              "      fill: #D2E3FC;\n",
              "    }\n",
              "\n",
              "    [theme=dark] .colab-df-convert:hover {\n",
              "      background-color: #434B5C;\n",
              "      box-shadow: 0px 1px 3px 1px rgba(0, 0, 0, 0.15);\n",
              "      filter: drop-shadow(0px 1px 2px rgba(0, 0, 0, 0.3));\n",
              "      fill: #FFFFFF;\n",
              "    }\n",
              "  </style>\n",
              "\n",
              "      <script>\n",
              "        const buttonEl =\n",
              "          document.querySelector('#df-b9e87e60-a704-4d7e-b9a7-6cc4be6b286f button.colab-df-convert');\n",
              "        buttonEl.style.display =\n",
              "          google.colab.kernel.accessAllowed ? 'block' : 'none';\n",
              "\n",
              "        async function convertToInteractive(key) {\n",
              "          const element = document.querySelector('#df-b9e87e60-a704-4d7e-b9a7-6cc4be6b286f');\n",
              "          const dataTable =\n",
              "            await google.colab.kernel.invokeFunction('convertToInteractive',\n",
              "                                                     [key], {});\n",
              "          if (!dataTable) return;\n",
              "\n",
              "          const docLinkHtml = 'Like what you see? Visit the ' +\n",
              "            '<a target=\"_blank\" href=https://colab.research.google.com/notebooks/data_table.ipynb>data table notebook</a>'\n",
              "            + ' to learn more about interactive tables.';\n",
              "          element.innerHTML = '';\n",
              "          dataTable['output_type'] = 'display_data';\n",
              "          await google.colab.output.renderOutput(dataTable, element);\n",
              "          const docLink = document.createElement('div');\n",
              "          docLink.innerHTML = docLinkHtml;\n",
              "          element.appendChild(docLink);\n",
              "        }\n",
              "      </script>\n",
              "    </div>\n",
              "  </div>\n",
              "  "
            ]
          },
          "metadata": {},
          "execution_count": 4
        }
      ]
    },
    {
      "cell_type": "markdown",
      "source": [
        "### 5.1 List all attribute columns (1pt)"
      ],
      "metadata": {
        "id": "cPzHm4hdaBjF"
      }
    },
    {
      "cell_type": "code",
      "source": [
        "#TODO\n",
        "df.columns"
      ],
      "metadata": {
        "id": "51nRWYt1MZeH",
        "colab": {
          "base_uri": "https://localhost:8080/"
        },
        "outputId": "e7871b4c-95d3-4c05-efcc-23e4e03097cc"
      },
      "execution_count": 5,
      "outputs": [
        {
          "output_type": "execute_result",
          "data": {
            "text/plain": [
              "Index(['Unnamed: 0', 'state_code', 'latitude', 'longitude', 'zip_code', 'id',\n",
              "       'city', 'Unnamed: 6', 'name', 'labels', 'founded_at', 'closed_at',\n",
              "       'first_funding_at', 'last_funding_at', 'age_first_funding_year',\n",
              "       'age_last_funding_year', 'age_first_milestone_year',\n",
              "       'age_last_milestone_year', 'relationships', 'funding_rounds',\n",
              "       'funding_total_usd', 'milestones', 'state_code.1', 'category_code',\n",
              "       'object_id', 'avg_participants', 'is_top500', 'status'],\n",
              "      dtype='object')"
            ]
          },
          "metadata": {},
          "execution_count": 5
        }
      ]
    },
    {
      "cell_type": "markdown",
      "source": [
        "## 5.2 The \"Unnamed: 0\",\"Unnamed: 6\", \"state_code.1\" and \"object_id\" feature columns are not useful. Drop them in-place. (1pt) "
      ],
      "metadata": {
        "id": "AwpzFvt8p00X"
      }
    },
    {
      "cell_type": "code",
      "source": [
        "#TODO\n",
        "df.drop(columns=['Unnamed: 0', 'Unnamed: 6', 'state_code.1', 'object_id'], inplace=True)\n",
        "df.columns"
      ],
      "metadata": {
        "id": "U4BQhFTwt4ht",
        "colab": {
          "base_uri": "https://localhost:8080/"
        },
        "outputId": "08b2c8fe-b210-47a8-a231-0c5d8843831d"
      },
      "execution_count": 6,
      "outputs": [
        {
          "output_type": "execute_result",
          "data": {
            "text/plain": [
              "Index(['state_code', 'latitude', 'longitude', 'zip_code', 'id', 'city', 'name',\n",
              "       'labels', 'founded_at', 'closed_at', 'first_funding_at',\n",
              "       'last_funding_at', 'age_first_funding_year', 'age_last_funding_year',\n",
              "       'age_first_milestone_year', 'age_last_milestone_year', 'relationships',\n",
              "       'funding_rounds', 'funding_total_usd', 'milestones', 'category_code',\n",
              "       'avg_participants', 'is_top500', 'status'],\n",
              "      dtype='object')"
            ]
          },
          "metadata": {},
          "execution_count": 6
        }
      ]
    },
    {
      "cell_type": "markdown",
      "source": [
        "## 6.1 Show all the numeric columns and save it to a new dataframe. (2pt)"
      ],
      "metadata": {
        "id": "VriCR3uJcqG3"
      }
    },
    {
      "cell_type": "code",
      "source": [
        "#TODO\n",
        "numeric_features = df.select_dtypes(include=[np.number])\n",
        "numeric_features.columns"
      ],
      "metadata": {
        "id": "1d0OXYZJNU2i",
        "colab": {
          "base_uri": "https://localhost:8080/"
        },
        "outputId": "f3cb23b6-1b2d-47ee-b172-eec1a8243140"
      },
      "execution_count": 7,
      "outputs": [
        {
          "output_type": "execute_result",
          "data": {
            "text/plain": [
              "Index(['latitude', 'longitude', 'labels', 'age_first_funding_year',\n",
              "       'age_last_funding_year', 'age_first_milestone_year',\n",
              "       'age_last_milestone_year', 'relationships', 'funding_rounds',\n",
              "       'funding_total_usd', 'milestones', 'avg_participants', 'is_top500'],\n",
              "      dtype='object')"
            ]
          },
          "metadata": {},
          "execution_count": 7
        }
      ]
    },
    {
      "cell_type": "markdown",
      "source": [
        "## 6.2 Plot distributions of the numeric columns using histogram and record the skew of each distribution. (Note: positive value = right skewed, negative value = left skewed) (4pt)"
      ],
      "metadata": {
        "id": "1pVC2km7J9OX"
      }
    },
    {
      "cell_type": "code",
      "source": [
        "#TODO\n",
        "plt.hist(numeric_features['latitude'])\n",
        "plt.show()\n",
        "plt.hist(numeric_features['longitude'])\n",
        "plt.show()\n",
        "plt.hist(numeric_features['labels'])\n",
        "plt.show()\n",
        "plt.hist(numeric_features['age_first_funding_year'])\n",
        "plt.show()\n",
        "plt.hist(numeric_features['age_last_funding_year'])\n",
        "plt.show()\n",
        "plt.hist(numeric_features['age_first_milestone_year'])\n",
        "plt.show()\n",
        "plt.hist(numeric_features['age_last_milestone_year'])\n",
        "plt.show()\n",
        "plt.hist(numeric_features['relationships'])\n",
        "plt.show()\n",
        "plt.hist(numeric_features['funding_rounds'])\n",
        "plt.show()\n",
        "plt.hist(numeric_features['funding_total_usd'])\n",
        "plt.show()\n",
        "plt.hist(numeric_features['milestones'])\n",
        "plt.show()\n",
        "plt.hist(numeric_features['avg_participants'])\n",
        "plt.show()\n",
        "plt.hist(numeric_features['is_top500'])\n",
        "plt.show()\n",
        "numeric_features.skew()"
      ],
      "metadata": {
        "id": "x-ETyZXbJed7",
        "colab": {
          "base_uri": "https://localhost:8080/",
          "height": 1000
        },
        "outputId": "8e8a4ed2-56bf-44ad-9c96-18cb04b93cd3"
      },
      "execution_count": 8,
      "outputs": [
        {
          "output_type": "display_data",
          "data": {
            "text/plain": [
              "<Figure size 432x288 with 1 Axes>"
            ],
            "image/png": "[encoded data removed]"
          },
          "metadata": {
            "needs_background": "light"
          }
        },
        {
          "output_type": "display_data",
          "data": {
            "text/plain": [
              "<Figure size 432x288 with 1 Axes>"
            ],
            "image/png": "[encoded data removed]"
          },
          "metadata": {
            "needs_background": "light"
          }
        },
        {
          "output_type": "display_data",
          "data": {
            "text/plain": [
              "<Figure size 432x288 with 1 Axes>"
            ],
            "image/png": "[encoded data removed]"
          },
          "metadata": {
            "needs_background": "light"
          }
        },
        {
          "output_type": "display_data",
          "data": {
            "text/plain": [
              "<Figure size 432x288 with 1 Axes>"
            ],
            "image/png": "[encoded data removed]"
          },
          "metadata": {
            "needs_background": "light"
          }
        },
        {
          "output_type": "display_data",
          "data": {
            "text/plain": [
              "<Figure size 432x288 with 1 Axes>"
            ],
            "image/png": "[encoded data removed]"
          },
          "metadata": {
            "needs_background": "light"
          }
        },
        {
          "output_type": "display_data",
          "data": {
            "text/plain": [
              "<Figure size 432x288 with 1 Axes>"
            ],
            "image/png": "[encoded data removed]"
          },
          "metadata": {
            "needs_background": "light"
          }
        },
        {
          "output_type": "display_data",
          "data": {
            "text/plain": [
              "<Figure size 432x288 with 1 Axes>"
            ],
            "image/png": "[encoded data removed]"
          },
          "metadata": {
            "needs_background": "light"
          }
        },
        {
          "output_type": "display_data",
          "data": {
            "text/plain": [
              "<Figure size 432x288 with 1 Axes>"
            ],
            "image/png": "[encoded data removed]"
          },
          "metadata": {
            "needs_background": "light"
          }
        },
        {
          "output_type": "display_data",
          "data": {
            "text/plain": [
              "<Figure size 432x288 with 1 Axes>"
            ],
            "image/png": "[encoded data removed]"
          },
          "metadata": {
            "needs_background": "light"
          }
        },
        {
          "output_type": "display_data",
          "data": {
            "text/plain": [
              "<Figure size 432x288 with 1 Axes>"
            ],
            "image/png": "[encoded data removed]"
          },
          "metadata": {
            "needs_background": "light"
          }
        },
        {
          "output_type": "display_data",
          "data": {
            "text/plain": [
              "<Figure size 432x288 with 1 Axes>"
            ],
            "image/png": "[encoded data removed]"
          },
          "metadata": {
            "needs_background": "light"
          }
        },
        {
          "output_type": "display_data",
          "data": {
            "text/plain": [
              "<Figure size 432x288 with 1 Axes>"
            ],
            "image/png": "[encoded data removed]"
          },
          "metadata": {
            "needs_background": "light"
          }
        },
        {
          "output_type": "display_data",
          "data": {
            "text/plain": [
              "<Figure size 432x288 with 1 Axes>"
            ],
            "image/png": "[encoded data removed]"
          },
          "metadata": {
            "needs_background": "light"
          }
        },
        {
          "output_type": "execute_result",
          "data": {
            "text/plain": [
              "latitude                     0.309298\n",
              "longitude                    0.873708\n",
              "labels                      -0.615290\n",
              "age_first_funding_year       2.104001\n",
              "age_last_funding_year        1.092075\n",
              "age_first_milestone_year     0.944468\n",
              "age_last_milestone_year      0.711934\n",
              "relationships                2.329961\n",
              "funding_rounds               1.356917\n",
              "funding_total_usd           29.152461\n",
              "milestones                   0.577378\n",
              "avg_participants             1.767554\n",
              "is_top500                   -1.577343\n",
              "dtype: float64"
            ]
          },
          "metadata": {},
          "execution_count": 8
        }
      ]
    },
    {
      "cell_type": "markdown",
      "source": [
        "## 7. Show all the categorical columns and save it to a new dataframe. (2pt)"
      ],
      "metadata": {
        "id": "ZVg4ruKfdLty"
      }
    },
    {
      "cell_type": "code",
      "source": [
        "#TODO\n",
        "categorical_features = df.select_dtypes(include=[np.object])\n",
        "categorical_features.columns"
      ],
      "metadata": {
        "id": "iyO9ho5ZNmfs",
        "colab": {
          "base_uri": "https://localhost:8080/"
        },
        "outputId": "35b7a7f4-c85f-4b6f-92c3-72a94be7d1e6"
      },
      "execution_count": 9,
      "outputs": [
        {
          "output_type": "stream",
          "name": "stderr",
          "text": [
            "<ipython-input-9-e51306b70949>:2: DeprecationWarning: `np.object` is a deprecated alias for the builtin `object`. To silence this warning, use `object` by itself. Doing this will not modify any behavior and is safe. \n",
            "Deprecated in NumPy 1.20; for more details and guidance: https://numpy.org/devdocs/release/1.20.0-notes.html#deprecations\n",
            "  categorical_features = df.select_dtypes(include=[np.object])\n"
          ]
        },
        {
          "output_type": "execute_result",
          "data": {
            "text/plain": [
              "Index(['state_code', 'zip_code', 'id', 'city', 'name', 'founded_at',\n",
              "       'closed_at', 'first_funding_at', 'last_funding_at', 'category_code',\n",
              "       'status'],\n",
              "      dtype='object')"
            ]
          },
          "metadata": {},
          "execution_count": 9
        }
      ]
    },
    {
      "cell_type": "markdown",
      "source": [
        "## 8. Examine missing values (2+2+3=7pt)"
      ],
      "metadata": {
        "id": "FB0vFYlYdTZu"
      }
    },
    {
      "cell_type": "markdown",
      "source": [
        "### 8.1 Show a list with column wise count of missing values and display the list in count wise descending order."
      ],
      "metadata": {
        "id": "vD4Ueqy1dcIn"
      }
    },
    {
      "cell_type": "code",
      "source": [
        "#TODO\n",
        "nulls = df.isnull().sum().to_frame('nulls')\n",
        "nulls.sort_values(\"nulls\", inplace = True, ascending = False)\n",
        "nulls"
      ],
      "metadata": {
        "id": "t_qwmUSdlxEi",
        "colab": {
          "base_uri": "https://localhost:8080/",
          "height": 802
        },
        "outputId": "e3ce5139-b54f-40c3-ecd3-d79f5c04db33"
      },
      "execution_count": 10,
      "outputs": [
        {
          "output_type": "execute_result",
          "data": {
            "text/plain": [
              "                          nulls\n",
              "closed_at                   588\n",
              "age_last_milestone_year     152\n",
              "age_first_milestone_year    152\n",
              "state_code                    0\n",
              "age_last_funding_year         0\n",
              "is_top500                     0\n",
              "avg_participants              0\n",
              "category_code                 0\n",
              "milestones                    0\n",
              "funding_total_usd             0\n",
              "funding_rounds                0\n",
              "relationships                 0\n",
              "age_first_funding_year        0\n",
              "latitude                      0\n",
              "last_funding_at               0\n",
              "first_funding_at              0\n",
              "founded_at                    0\n",
              "labels                        0\n",
              "name                          0\n",
              "city                          0\n",
              "id                            0\n",
              "zip_code                      0\n",
              "longitude                     0\n",
              "status                        0"
            ],
            "text/html": [
              "\n",
              "  <div id=\"df-ca09f7aa-6007-4df8-bd48-657f80f13342\">\n",
              "    <div class=\"colab-df-container\">\n",
              "      <div>\n",
              "<style scoped>\n",
              "    .dataframe tbody tr th:only-of-type {\n",
              "        vertical-align: middle;\n",
              "    }\n",
              "\n",
              "    .dataframe tbody tr th {\n",
              "        vertical-align: top;\n",
              "    }\n",
              "\n",
              "    .dataframe thead th {\n",
              "        text-align: right;\n",
              "    }\n",
              "</style>\n",
              "<table border=\"1\" class=\"dataframe\">\n",
              "  <thead>\n",
              "    <tr style=\"text-align: right;\">\n",
              "      <th></th>\n",
              "      <th>nulls</th>\n",
              "    </tr>\n",
              "  </thead>\n",
              "  <tbody>\n",
              "    <tr>\n",
              "      <th>closed_at</th>\n",
              "      <td>588</td>\n",
              "    </tr>\n",
              "    <tr>\n",
              "      <th>age_last_milestone_year</th>\n",
              "      <td>152</td>\n",
              "    </tr>\n",
              "    <tr>\n",
              "      <th>age_first_milestone_year</th>\n",
              "      <td>152</td>\n",
              "    </tr>\n",
              "    <tr>\n",
              "      <th>state_code</th>\n",
              "      <td>0</td>\n",
              "    </tr>\n",
              "    <tr>\n",
              "      <th>age_last_funding_year</th>\n",
              "      <td>0</td>\n",
              "    </tr>\n",
              "    <tr>\n",
              "      <th>is_top500</th>\n",
              "      <td>0</td>\n",
              "    </tr>\n",
              "    <tr>\n",
              "      <th>avg_participants</th>\n",
              "      <td>0</td>\n",
              "    </tr>\n",
              "    <tr>\n",
              "      <th>category_code</th>\n",
              "      <td>0</td>\n",
              "    </tr>\n",
              "    <tr>\n",
              "      <th>milestones</th>\n",
              "      <td>0</td>\n",
              "    </tr>\n",
              "    <tr>\n",
              "      <th>funding_total_usd</th>\n",
              "      <td>0</td>\n",
              "    </tr>\n",
              "    <tr>\n",
              "      <th>funding_rounds</th>\n",
              "      <td>0</td>\n",
              "    </tr>\n",
              "    <tr>\n",
              "      <th>relationships</th>\n",
              "      <td>0</td>\n",
              "    </tr>\n",
              "    <tr>\n",
              "      <th>age_first_funding_year</th>\n",
              "      <td>0</td>\n",
              "    </tr>\n",
              "    <tr>\n",
              "      <th>latitude</th>\n",
              "      <td>0</td>\n",
              "    </tr>\n",
              "    <tr>\n",
              "      <th>last_funding_at</th>\n",
              "      <td>0</td>\n",
              "    </tr>\n",
              "    <tr>\n",
              "      <th>first_funding_at</th>\n",
              "      <td>0</td>\n",
              "    </tr>\n",
              "    <tr>\n",
              "      <th>founded_at</th>\n",
              "      <td>0</td>\n",
              "    </tr>\n",
              "    <tr>\n",
              "      <th>labels</th>\n",
              "      <td>0</td>\n",
              "    </tr>\n",
              "    <tr>\n",
              "      <th>name</th>\n",
              "      <td>0</td>\n",
              "    </tr>\n",
              "    <tr>\n",
              "      <th>city</th>\n",
              "      <td>0</td>\n",
              "    </tr>\n",
              "    <tr>\n",
              "      <th>id</th>\n",
              "      <td>0</td>\n",
              "    </tr>\n",
              "    <tr>\n",
              "      <th>zip_code</th>\n",
              "      <td>0</td>\n",
              "    </tr>\n",
              "    <tr>\n",
              "      <th>longitude</th>\n",
              "      <td>0</td>\n",
              "    </tr>\n",
              "    <tr>\n",
              "      <th>status</th>\n",
              "      <td>0</td>\n",
              "    </tr>\n",
              "  </tbody>\n",
              "</table>\n",
              "</div>\n",
              "      <button class=\"colab-df-convert\" onclick=\"convertToInteractive('df-ca09f7aa-6007-4df8-bd48-657f80f13342')\"\n",
              "              title=\"Convert this dataframe to an interactive table.\"\n",
              "              style=\"display:none;\">\n",
              "        \n",
              "  <svg xmlns=\"http://www.w3.org/2000/svg\" height=\"24px\"viewBox=\"0 0 24 24\"\n",
              "       width=\"24px\">\n",
              "    <path d=\"M0 0h24v24H0V0z\" fill=\"none\"/>\n",
              "    <path d=\"M18.56 5.44l.94 2.06.94-2.06 2.06-.94-2.06-.94-.94-2.06-.94 2.06-2.06.94zm-11 1L8.5 8.5l.94-2.06 2.06-.94-2.06-.94L8.5 2.5l-.94 2.06-2.06.94zm10 10l.94 2.06.94-2.06 2.06-.94-2.06-.94-.94-2.06-.94 2.06-2.06.94z\"/><path d=\"M17.41 7.96l-1.37-1.37c-.4-.4-.92-.59-1.43-.59-.52 0-1.04.2-1.43.59L10.3 9.45l-7.72 7.72c-.78.78-.78 2.05 0 2.83L4 21.41c.39.39.9.59 1.41.59.51 0 1.02-.2 1.41-.59l7.78-7.78 2.81-2.81c.8-.78.8-2.07 0-2.86zM5.41 20L4 18.59l7.72-7.72 1.47 1.35L5.41 20z\"/>\n",
              "  </svg>\n",
              "      </button>\n",
              "      \n",
              "  <style>\n",
              "    .colab-df-container {\n",
              "      display:flex;\n",
              "      flex-wrap:wrap;\n",
              "      gap: 12px;\n",
              "    }\n",
              "\n",
              "    .colab-df-convert {\n",
              "      background-color: #E8F0FE;\n",
              "      border: none;\n",
              "      border-radius: 50%;\n",
              "      cursor: pointer;\n",
              "      display: none;\n",
              "      fill: #1967D2;\n",
              "      height: 32px;\n",
              "      padding: 0 0 0 0;\n",
              "      width: 32px;\n",
              "    }\n",
              "\n",
              "    .colab-df-convert:hover {\n",
              "      background-color: #E2EBFA;\n",
              "      box-shadow: 0px 1px 2px rgba(60, 64, 67, 0.3), 0px 1px 3px 1px rgba(60, 64, 67, 0.15);\n",
              "      fill: #174EA6;\n",
              "    }\n",
              "\n",
              "    [theme=dark] .colab-df-convert {\n",
              "      background-color: #3B4455;\n",
              "      fill: #D2E3FC;\n",
              "    }\n",
              "\n",
              "    [theme=dark] .colab-df-convert:hover {\n",
              "      background-color: #434B5C;\n",
              "      box-shadow: 0px 1px 3px 1px rgba(0, 0, 0, 0.15);\n",
              "      filter: drop-shadow(0px 1px 2px rgba(0, 0, 0, 0.3));\n",
              "      fill: #FFFFFF;\n",
              "    }\n",
              "  </style>\n",
              "\n",
              "      <script>\n",
              "        const buttonEl =\n",
              "          document.querySelector('#df-ca09f7aa-6007-4df8-bd48-657f80f13342 button.colab-df-convert');\n",
              "        buttonEl.style.display =\n",
              "          google.colab.kernel.accessAllowed ? 'block' : 'none';\n",
              "\n",
              "        async function convertToInteractive(key) {\n",
              "          const element = document.querySelector('#df-ca09f7aa-6007-4df8-bd48-657f80f13342');\n",
              "          const dataTable =\n",
              "            await google.colab.kernel.invokeFunction('convertToInteractive',\n",
              "                                                     [key], {});\n",
              "          if (!dataTable) return;\n",
              "\n",
              "          const docLinkHtml = 'Like what you see? Visit the ' +\n",
              "            '<a target=\"_blank\" href=https://colab.research.google.com/notebooks/data_table.ipynb>data table notebook</a>'\n",
              "            + ' to learn more about interactive tables.';\n",
              "          element.innerHTML = '';\n",
              "          dataTable['output_type'] = 'display_data';\n",
              "          await google.colab.output.renderOutput(dataTable, element);\n",
              "          const docLink = document.createElement('div');\n",
              "          docLink.innerHTML = docLinkHtml;\n",
              "          element.appendChild(docLink);\n",
              "        }\n",
              "      </script>\n",
              "    </div>\n",
              "  </div>\n",
              "  "
            ]
          },
          "metadata": {},
          "execution_count": 10
        }
      ]
    },
    {
      "cell_type": "markdown",
      "source": [
        "### 8.2 Show columnwise percentage of missing values."
      ],
      "metadata": {
        "id": "awGVHHvHdrSl"
      }
    },
    {
      "cell_type": "code",
      "source": [
        "#TODO\n",
        "percentage = df.isnull().mean()*100\n",
        "percentage = percentage.to_frame(\"nulls\")\n",
        "percentage.sort_values(\"nulls\", inplace = True)\n",
        "for index, row in percentage.iterrows():\n",
        "  print(index, row[0])"
      ],
      "metadata": {
        "id": "It_U3nDumQyN",
        "colab": {
          "base_uri": "https://localhost:8080/"
        },
        "outputId": "a02e064a-93a7-4fa7-9a40-f6eecd1e794a"
      },
      "execution_count": 11,
      "outputs": [
        {
          "output_type": "stream",
          "name": "stdout",
          "text": [
            "state_code 0.0\n",
            "avg_participants 0.0\n",
            "category_code 0.0\n",
            "milestones 0.0\n",
            "funding_total_usd 0.0\n",
            "funding_rounds 0.0\n",
            "relationships 0.0\n",
            "age_last_funding_year 0.0\n",
            "age_first_funding_year 0.0\n",
            "is_top500 0.0\n",
            "last_funding_at 0.0\n",
            "founded_at 0.0\n",
            "labels 0.0\n",
            "name 0.0\n",
            "city 0.0\n",
            "id 0.0\n",
            "zip_code 0.0\n",
            "longitude 0.0\n",
            "latitude 0.0\n",
            "first_funding_at 0.0\n",
            "status 0.0\n",
            "age_first_milestone_year 16.468039003250272\n",
            "age_last_milestone_year 16.468039003250272\n",
            "closed_at 63.705308775731304\n"
          ]
        }
      ]
    },
    {
      "cell_type": "markdown",
      "source": [
        "### 8.3 Display a bar plot to visualize only the columns with missing values and their percentage count."
      ],
      "metadata": {
        "id": "UZYP8MSzeEuJ"
      }
    },
    {
      "cell_type": "code",
      "source": [
        "#TODO\n",
        "miss = df.isnull().sum()\n",
        "missing = 100 * miss / len(df)\n",
        "missing = missing[missing>0]\n",
        "missing.plot.bar()"
      ],
      "metadata": {
        "id": "6VOHMluvmh-w",
        "colab": {
          "base_uri": "https://localhost:8080/",
          "height": 398
        },
        "outputId": "e15bb1d2-eff5-4a0d-e96e-95a09ed67af6"
      },
      "execution_count": 13,
      "outputs": [
        {
          "output_type": "execute_result",
          "data": {
            "text/plain": [
              "<matplotlib.axes._subplots.AxesSubplot at 0x7efd4701a2b0>"
            ]
          },
          "metadata": {},
          "execution_count": 13
        },
        {
          "output_type": "display_data",
          "data": {
            "text/plain": [
              "<Figure size 432x288 with 1 Axes>"
            ],
            "image/png": "[encoded data removed]"
          },
          "metadata": {
            "needs_background": "light"
          }
        }
      ]
    },
    {
      "cell_type": "markdown",
      "source": [
        "## 9. Label Encoding : Copy the dataframe to a new one. Then using scikitlearn's Label Encoder, transform the \"status\" column to 0-1. (5pt)"
      ],
      "metadata": {
        "id": "6s8VXFZlg1aa"
      }
    },
    {
      "cell_type": "code",
      "source": [
        "#TODO\n",
        "newdf = df\n",
        "le = LabelEncoder()\n",
        "newdf.status = le.fit_transform(df.status)\n",
        "newdf.head"
      ],
      "metadata": {
        "id": "nIoufsNJwArq",
        "colab": {
          "base_uri": "https://localhost:8080/"
        },
        "outputId": "54458d92-84f4-4806-a6d9-e6eef1a10e86"
      },
      "execution_count": 14,
      "outputs": [
        {
          "output_type": "execute_result",
          "data": {
            "text/plain": [
              "<bound method NDFrame.head of     state_code   latitude   longitude zip_code       id           city  \\\n",
              "0           CA  42.358880  -71.056820    92101   c:6669      San Diego   \n",
              "1           CA  37.238916 -121.973718    95032  c:16283      Los Gatos   \n",
              "2           CA  32.901049 -117.192656    92121  c:65620      San Diego   \n",
              "3           CA  37.320309 -122.050040    95014  c:42668      Cupertino   \n",
              "4           CA  37.779281 -122.419236    94105  c:65806  San Francisco   \n",
              "..         ...        ...         ...      ...      ...            ...   \n",
              "918         CA  37.740594 -122.376471    94107  c:21343  San Francisco   \n",
              "919         MA  42.504817  -71.195611     1803  c:41747     Burlington   \n",
              "920         CA  37.408261 -122.015920    94089  c:31549      Sunnyvale   \n",
              "921         CA  37.556732 -122.288378    94404  c:33198  San Francisco   \n",
              "922         CA  37.386778 -121.966277    95054  c:26702    Santa Clara   \n",
              "\n",
              "                     name  labels founded_at  closed_at  ...  \\\n",
              "0             Bandsintown       1   1/1/2007        NaN  ...   \n",
              "1               TriCipher       1   1/1/2000        NaN  ...   \n",
              "2                   Plixi       1  3/18/2009        NaN  ...   \n",
              "3       Solidcore Systems       1   1/1/2002        NaN  ...   \n",
              "4          Inhale Digital       0   8/1/2010  10/1/2012  ...   \n",
              "..                    ...     ...        ...        ...  ...   \n",
              "918               CoTweet       1   1/1/2009        NaN  ...   \n",
              "919    Reef Point Systems       0   1/1/1998  6/25/2008  ...   \n",
              "920       Paracor Medical       0   1/1/1999  6/17/2012  ...   \n",
              "921               Causata       1   1/1/2009        NaN  ...   \n",
              "922  Asempra Technologies       1   1/1/2003        NaN  ...   \n",
              "\n",
              "    age_first_milestone_year age_last_milestone_year  relationships  \\\n",
              "0                     4.6685                  6.7041              3   \n",
              "1                     7.0055                  7.0055              9   \n",
              "2                     1.4575                  2.2055              5   \n",
              "3                     6.0027                  6.0027              5   \n",
              "4                     0.0384                  0.0384              2   \n",
              "..                       ...                     ...            ...   \n",
              "918                   0.5808                  4.5260              9   \n",
              "919                   6.0027                  6.0027              1   \n",
              "920                   9.0055                  9.0055              5   \n",
              "921                   0.7589                  3.8356             12   \n",
              "922                   4.0027                  4.0027              4   \n",
              "\n",
              "     funding_rounds  funding_total_usd  milestones  category_code  \\\n",
              "0                 3             375000           3          music   \n",
              "1                 4           40100000           1     enterprise   \n",
              "2                 1            2600000           2            web   \n",
              "3                 3           40000000           1       software   \n",
              "4                 2            1300000           1    games_video   \n",
              "..              ...                ...         ...            ...   \n",
              "918               1            1100000           2    advertising   \n",
              "919               3           52000000           1       security   \n",
              "920               1           44000000           1        biotech   \n",
              "921               2           15500000           2       software   \n",
              "922               1           20000000           1       security   \n",
              "\n",
              "     avg_participants  is_top500  status  \n",
              "0              1.0000          0       0  \n",
              "1              4.7500          1       0  \n",
              "2              4.0000          1       0  \n",
              "3              3.3333          1       0  \n",
              "4              1.0000          1       1  \n",
              "..                ...        ...     ...  \n",
              "918            6.0000          1       0  \n",
              "919            2.6667          1       1  \n",
              "920            8.0000          1       1  \n",
              "921            1.0000          1       0  \n",
              "922            3.0000          1       0  \n",
              "\n",
              "[923 rows x 24 columns]>"
            ]
          },
          "metadata": {},
          "execution_count": 14
        }
      ]
    },
    {
      "cell_type": "markdown",
      "source": [
        "## 10. Correlation: Use seaborn's heatmap to visualize the correlation between numeric features. (3pt)"
      ],
      "metadata": {
        "id": "LlUD3o8Z7CwT"
      }
    },
    {
      "cell_type": "code",
      "source": [
        "#TODO\n",
        "sns.heatmap(numeric_features.corr())"
      ],
      "metadata": {
        "id": "jMnTs1TXo43h",
        "colab": {
          "base_uri": "https://localhost:8080/",
          "height": 402
        },
        "outputId": "e34bc95a-846a-4cf7-b7df-a94a2fc32e80"
      },
      "execution_count": 15,
      "outputs": [
        {
          "output_type": "execute_result",
          "data": {
            "text/plain": [
              "<matplotlib.axes._subplots.AxesSubplot at 0x7efd471a2d00>"
            ]
          },
          "metadata": {},
          "execution_count": 15
        },
        {
          "output_type": "display_data",
          "data": {
            "text/plain": [
              "<Figure size 432x288 with 2 Axes>"
            ],
            "image/png": "[encoded data removed]"
          },
          "metadata": {
            "needs_background": "light"
          }
        }
      ]
    },
    {
      "cell_type": "markdown",
      "source": [
        "## 11.1 Use seaborn's countplot to visualize relationship between \"*state_code*\" and \"*labels*\". Comment on which state produced majority of successful startups (3pt)"
      ],
      "metadata": {
        "id": "33BHNCaxpfls"
      }
    },
    {
      "cell_type": "code",
      "source": [
        "#TODO\n",
        "fig = plt.figure(figsize=(12,4))\n",
        "sns.countplot(x = df['state_code'], hue = df['labels'], data = df)\n",
        "plt.show()\n",
        "#CA produced majority of successful startups"
      ],
      "metadata": {
        "id": "CSUeKO5Dr2x8",
        "colab": {
          "base_uri": "https://localhost:8080/",
          "height": 280
        },
        "outputId": "9a85a9d8-713b-4722-9ffa-ba5835e074fc"
      },
      "execution_count": 16,
      "outputs": [
        {
          "output_type": "display_data",
          "data": {
            "text/plain": [
              "<Figure size 864x288 with 1 Axes>"
            ],
            "image/png": "[encoded data removed]"
          },
          "metadata": {
            "needs_background": "light"
          }
        }
      ]
    },
    {
      "cell_type": "markdown",
      "source": [
        "## 11.2 Use seaborn's countplot to visualize relationship between \"*milestones*\" and \"*labels*\". Comment on which milestone made the statistically highest number of successful startups (3pt)"
      ],
      "metadata": {
        "id": "VY9zrGalG13T"
      }
    },
    {
      "cell_type": "markdown",
      "source": [],
      "metadata": {
        "id": "6Ej08-a-G9Ht"
      }
    },
    {
      "cell_type": "code",
      "source": [
        "#TODO\n",
        "sns.countplot(x = df['milestones'], hue = df['labels'], data = df)\n",
        "plt.show()\n",
        "#2 milestones made the statistically highest number of successful startups"
      ],
      "metadata": {
        "id": "gXN1v9WEG1FC",
        "colab": {
          "base_uri": "https://localhost:8080/",
          "height": 279
        },
        "outputId": "142e1a93-671d-4c5e-a395-058fffacb921"
      },
      "execution_count": 17,
      "outputs": [
        {
          "output_type": "display_data",
          "data": {
            "text/plain": [
              "<Figure size 432x288 with 1 Axes>"
            ],
            "image/png": "[encoded data removed]"
          },
          "metadata": {
            "needs_background": "light"
          }
        }
      ]
    },
    {
      "cell_type": "markdown",
      "source": [
        "## 12. Drop features with duplicate values in-place, then show dataframe's new shape. (1pt)"
      ],
      "metadata": {
        "id": "sjmMrrWBrMMT"
      }
    },
    {
      "cell_type": "code",
      "source": [
        "#TODO\n",
        "df.drop_duplicates(inplace=True)\n",
        "df.shape"
      ],
      "metadata": {
        "id": "OFY3oWLo748W",
        "colab": {
          "base_uri": "https://localhost:8080/"
        },
        "outputId": "b85d22a3-2b34-4cd8-ee7e-cf9bca44adb0"
      },
      "execution_count": 18,
      "outputs": [
        {
          "output_type": "execute_result",
          "data": {
            "text/plain": [
              "(923, 24)"
            ]
          },
          "metadata": {},
          "execution_count": 18
        }
      ]
    },
    {
      "cell_type": "markdown",
      "source": [
        "## 13. From correlation heatmap above, comment on which feature has the highest correlation with \"*funding_rounds*\". Visualize a scatterplot with that and \"*funding_rounds*\". (3+3 = 6pt)"
      ],
      "metadata": {
        "id": "qzoqmczG8ZtJ"
      }
    },
    {
      "cell_type": "code",
      "source": [
        "#TODO\n",
        "#The 'age_last_funding_year' has the highest correlation with 'funding_rounds'\n",
        "plt.figure(figsize = (10,4))\n",
        "sns.scatterplot(data = df, x = 'funding_rounds', y = 'age_last_funding_year').set(title = 'age_last_funding_year versus funding_rounds')\n",
        "plt.show()"
      ],
      "metadata": {
        "id": "tSAKW_YG8Brp",
        "colab": {
          "base_uri": "https://localhost:8080/",
          "height": 296
        },
        "outputId": "07c6fb35-6a76-4be3-d8b9-e8e04f5bccd0"
      },
      "execution_count": 19,
      "outputs": [
        {
          "output_type": "display_data",
          "data": {
            "text/plain": [
              "<Figure size 720x288 with 1 Axes>"
            ],
            "image/png": "[encoded data removed]"
          },
          "metadata": {
            "needs_background": "light"
          }
        }
      ]
    },
    {
      "cell_type": "markdown",
      "source": [
        "## 14. Show boxplots for the numeric features to detect outliers. (4pt)"
      ],
      "metadata": {
        "id": "0zbrG6toCPnD"
      }
    },
    {
      "cell_type": "code",
      "source": [
        "#TODO\n",
        "fig = plt.figure(figsize=(12,4))\n",
        "nf2 = numeric_features\n",
        "for i in nf2:\n",
        "  nf2[i] = nf2[i] / nf2[i].abs().max()\n",
        "sns.boxplot(data = [nf2['latitude'],nf2['longitude'],nf2['labels'],\n",
        "      nf2['age_first_funding_year'],nf2['age_last_funding_year'],\n",
        "      nf2['age_first_milestone_year'],nf2['age_last_milestone_year'],\n",
        "      nf2['relationships'],nf2['funding_rounds'],\n",
        "      nf2['funding_total_usd'],nf2['milestones'],nf2['avg_participants'],\n",
        "      nf2['is_top500']], orient = \"h\")\n",
        "plt.show()\n",
        "\n",
        "\n",
        "\n",
        "\"\"\"\n",
        "sns.boxplot(numeric_features['latitude'])\n",
        "plt.show()\n",
        "sns.boxplot(numeric_features['longitude'])\n",
        "plt.show()\n",
        "sns.boxplot(numeric_features['labels'])\n",
        "plt.show()\n",
        "sns.boxplot(numeric_features['age_first_funding_year'])\n",
        "plt.show()\n",
        "sns.boxplot(numeric_features['age_last_funding_year'])\n",
        "plt.show()\n",
        "sns.boxplot(numeric_features['age_first_milestone_year'])\n",
        "plt.show()\n",
        "sns.boxplot(numeric_features['age_last_milestone_year'])\n",
        "plt.show()\n",
        "sns.boxplot(numeric_features['relationships'])\n",
        "plt.show()\n",
        "sns.boxplot(numeric_features['funding_rounds'])\n",
        "plt.show()\n",
        "sns.boxplot(numeric_features['funding_total_usd'])\n",
        "plt.show()\n",
        "sns.boxplot(numeric_features['milestones'])\n",
        "plt.show()\n",
        "sns.boxplot(numeric_features['avg_participants'])\n",
        "plt.show()\n",
        "sns.boxplot(numeric_features['is_top500'])\n",
        "plt.show()\n",
        "\"\"\""
      ],
      "metadata": {
        "id": "C6-beusV4cFa",
        "colab": {
          "base_uri": "https://localhost:8080/",
          "height": 463
        },
        "outputId": "4ade0e61-4eb6-4ee9-d0f1-63a7c9fe6c0c"
      },
      "execution_count": 20,
      "outputs": [
        {
          "output_type": "stream",
          "name": "stderr",
          "text": [
            "<ipython-input-20-c2698eadfc1f>:5: SettingWithCopyWarning: \n",
            "A value is trying to be set on a copy of a slice from a DataFrame.\n",
            "Try using .loc[row_indexer,col_indexer] = value instead\n",
            "\n",
            "See the caveats in the documentation: https://pandas.pydata.org/pandas-docs/stable/user_guide/indexing.html#returning-a-view-versus-a-copy\n",
            "  nf2[i] = nf2[i] / nf2[i].abs().max()\n"
          ]
        },
        {
          "output_type": "display_data",
          "data": {
            "text/plain": [
              "<Figure size 864x288 with 1 Axes>"
            ],
            "image/png": "[encoded data removed]"
          },
          "metadata": {
            "needs_background": "light"
          }
        },
        {
          "output_type": "execute_result",
          "data": {
            "text/plain": [
              "\"\\nsns.boxplot(numeric_features['latitude'])\\nplt.show()\\nsns.boxplot(numeric_features['longitude'])\\nplt.show()\\nsns.boxplot(numeric_features['labels'])\\nplt.show()\\nsns.boxplot(numeric_features['age_first_funding_year'])\\nplt.show()\\nsns.boxplot(numeric_features['age_last_funding_year'])\\nplt.show()\\nsns.boxplot(numeric_features['age_first_milestone_year'])\\nplt.show()\\nsns.boxplot(numeric_features['age_last_milestone_year'])\\nplt.show()\\nsns.boxplot(numeric_features['relationships'])\\nplt.show()\\nsns.boxplot(numeric_features['funding_rounds'])\\nplt.show()\\nsns.boxplot(numeric_features['funding_total_usd'])\\nplt.show()\\nsns.boxplot(numeric_features['milestones'])\\nplt.show()\\nsns.boxplot(numeric_features['avg_participants'])\\nplt.show()\\nsns.boxplot(numeric_features['is_top500'])\\nplt.show()\\n\""
            ],
            "application/vnd.google.colaboratory.intrinsic+json": {
              "type": "string"
            }
          },
          "metadata": {},
          "execution_count": 20
        }
      ]
    },
    {
      "cell_type": "markdown",
      "source": [
        "## 15. Summary and Discussion: Mention what additional steps are required to use this dataset in a binary classifier. Eg: any column to remove, any record to remove, any distribution to rebalance, any features to be joined together to generate new feature etc. (2pt)"
      ],
      "metadata": {
        "id": "7SljwTh_IhBa"
      }
    },
    {
      "cell_type": "markdown",
      "source": [
        "Several additional steps:\n",
        "1. 'latitude' and 'longitude' can be combined as one feature\n",
        "2. Use Simple Random Sampling to extract key data\n",
        "3. Use k means to cluster dataset\n",
        "4. Use normalization to compress values into a small range"
      ],
      "metadata": {
        "id": "Egc0xXmhuVUd"
      }
    }
  ]
}