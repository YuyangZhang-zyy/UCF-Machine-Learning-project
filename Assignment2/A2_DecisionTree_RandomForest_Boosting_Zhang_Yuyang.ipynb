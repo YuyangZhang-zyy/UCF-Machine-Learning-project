{
  "cells": [
    {
      "cell_type": "markdown",
      "metadata": {
        "id": "w_81u4D3WhUu"
      },
      "source": [
        "# This jupyter notebook is prepared by “Yuyang Zhang”."
      ]
    },
    {
      "cell_type": "markdown",
      "metadata": {
        "id": "ldYxL0f2k4An"
      },
      "source": [
        "# 1. Load Data and perform basic EDA (4pts total)"
      ]
    },
    {
      "cell_type": "markdown",
      "metadata": {
        "id": "X1i4jxzBl2XK"
      },
      "source": [
        "### 1.1 import libraries: numpy, pandas, matplotlib.pyplot, seaborn, sklearn (1pt)"
      ]
    },
    {
      "cell_type": "code",
      "source": [
        "from google.colab import drive\n",
        "drive.mount('/content/drive')"
      ],
      "metadata": {
        "colab": {
          "base_uri": "https://localhost:8080/"
        },
        "id": "_bIjB48gdb39",
        "outputId": "17b12a66-cfd3-42c7-96fd-2ae0544dbd83"
      },
      "execution_count": 1,
      "outputs": [
        {
          "output_type": "stream",
          "name": "stdout",
          "text": [
            "Mounted at /content/drive\n"
          ]
        }
      ]
    },
    {
      "cell_type": "code",
      "execution_count": 2,
      "metadata": {
        "id": "75PmFmzpR8yQ"
      },
      "outputs": [],
      "source": [
        "# TODO\n",
        "import numpy as np\n",
        "import pandas as pd\n",
        "import matplotlib.pyplot as plt\n",
        "import seaborn as sns\n",
        "import sklearn"
      ]
    },
    {
      "cell_type": "markdown",
      "metadata": {
        "id": "NXc8-6YDmJsL"
      },
      "source": [
        "### 1.2 Upload the dataset to your Google Drive, then using the following code, import the data to a pandas dataframe and show the count of rows and columns (0.5pt)"
      ]
    },
    {
      "cell_type": "code",
      "execution_count": 23,
      "metadata": {
        "id": "FdK1HFt5XOGR",
        "colab": {
          "base_uri": "https://localhost:8080/"
        },
        "outputId": "34084e12-8e21-4add-85b8-e7f8cf87bdc0"
      },
      "outputs": [
        {
          "output_type": "execute_result",
          "data": {
            "text/plain": [
              "(8955, 15)"
            ]
          },
          "metadata": {},
          "execution_count": 23
        }
      ],
      "source": [
        "from google.colab import drive\n",
        "\n",
        "file_name = '/content/drive/MyDrive/hr_data_.csv' #you may need to change this line depending on the location of your file in Google Drive\n",
        "with open(file_name, 'r') as file:\n",
        " df = pd.read_csv(file_name)\n",
        "df.shape\n"
      ]
    },
    {
      "cell_type": "markdown",
      "metadata": {
        "id": "m3KH9B2Gms7W"
      },
      "source": [
        "### 1.3 Show the top 7 and bottom 7 rows (0.5pt)"
      ]
    },
    {
      "cell_type": "code",
      "execution_count": 24,
      "metadata": {
        "id": "SaEa4cRUmWip",
        "colab": {
          "base_uri": "https://localhost:8080/"
        },
        "outputId": "8396aa67-455c-451c-b09c-373ced85084a"
      },
      "outputs": [
        {
          "output_type": "stream",
          "name": "stdout",
          "text": [
            "Top 7 rows are: \n",
            "   Unnamed: 0  enrollee_id      city  city_development_index gender  \\\n",
            "0           1        29725   city_40                   0.776   Male   \n",
            "1           4          666  city_162                   0.767   Male   \n",
            "2           7          402   city_46                   0.762   Male   \n",
            "3           8        27107  city_103                   0.920   Male   \n",
            "4          11        23853  city_103                   0.920   Male   \n",
            "5          12        25619   city_61                   0.913   Male   \n",
            "6          15         6588  city_114                   0.926   Male   \n",
            "\n",
            "       relevent_experience enrolled_university education_level  \\\n",
            "0   No relevent experience       no_enrollment        Graduate   \n",
            "1  Has relevent experience       no_enrollment         Masters   \n",
            "2  Has relevent experience       no_enrollment        Graduate   \n",
            "3  Has relevent experience       no_enrollment        Graduate   \n",
            "4  Has relevent experience       no_enrollment        Graduate   \n",
            "5  Has relevent experience       no_enrollment        Graduate   \n",
            "6  Has relevent experience       no_enrollment        Graduate   \n",
            "\n",
            "  major_discipline  experience company_size    company_type last_new_job  \\\n",
            "0             STEM        15.0        50-99         Pvt Ltd           >4   \n",
            "1             STEM        21.0        50-99  Funded Startup            4   \n",
            "2             STEM        13.0          <10         Pvt Ltd           >4   \n",
            "3             STEM         7.0        50-99         Pvt Ltd            1   \n",
            "4             STEM         5.0    5000-9999         Pvt Ltd            1   \n",
            "5             STEM        21.0    1000-4999         Pvt Ltd            3   \n",
            "6             STEM        16.0        10/49         Pvt Ltd           >4   \n",
            "\n",
            "   training_hours  target  \n",
            "0              47     0.0  \n",
            "1               8     0.0  \n",
            "2              18     1.0  \n",
            "3              46     1.0  \n",
            "4             108     0.0  \n",
            "5              23     0.0  \n",
            "6              18     0.0  \n",
            "\n",
            "\n",
            "Bot 7 rows are: \n",
            "      Unnamed: 0  enrollee_id      city  city_development_index  gender  \\\n",
            "8948       19143        33047  city_103                   0.920    Male   \n",
            "8949       19146        13167  city_103                   0.920    Male   \n",
            "8950       19147        21319   city_21                   0.624    Male   \n",
            "8951       19149          251  city_103                   0.920    Male   \n",
            "8952       19150        32313  city_160                   0.920  Female   \n",
            "8953       19152        29754  city_103                   0.920  Female   \n",
            "8954       19155        24576  city_103                   0.920    Male   \n",
            "\n",
            "          relevent_experience enrolled_university education_level  \\\n",
            "8948  Has relevent experience       no_enrollment        Graduate   \n",
            "8949  Has relevent experience       no_enrollment        Graduate   \n",
            "8950   No relevent experience    Full time course        Graduate   \n",
            "8951  Has relevent experience       no_enrollment         Masters   \n",
            "8952  Has relevent experience       no_enrollment        Graduate   \n",
            "8953  Has relevent experience       no_enrollment        Graduate   \n",
            "8954  Has relevent experience       no_enrollment        Graduate   \n",
            "\n",
            "     major_discipline  experience company_size    company_type last_new_job  \\\n",
            "8948             STEM        21.0       10000+         Pvt Ltd           >4   \n",
            "8949             STEM         5.0      500-999         Pvt Ltd            1   \n",
            "8950             STEM         1.0      100-500         Pvt Ltd            1   \n",
            "8951             STEM         9.0        50-99         Pvt Ltd            1   \n",
            "8952             STEM        10.0      100-500   Public Sector            3   \n",
            "8953       Humanities         7.0        10/49  Funded Startup            1   \n",
            "8954             STEM        21.0        50-99         Pvt Ltd            4   \n",
            "\n",
            "      training_hours  target  \n",
            "8948              18     0.0  \n",
            "8949              51     0.0  \n",
            "8950              52     1.0  \n",
            "8951              36     1.0  \n",
            "8952              23     0.0  \n",
            "8953              25     0.0  \n",
            "8954              44     0.0  \n"
          ]
        }
      ],
      "source": [
        "# TODO\n",
        "print(\"Top 7 rows are: \")\n",
        "print(df.head(7))\n",
        "print(\"\\n\\nBot 7 rows are: \")\n",
        "print(df.tail(7))"
      ]
    },
    {
      "cell_type": "markdown",
      "metadata": {
        "id": "gVdizy4enKsy"
      },
      "source": [
        "### 1.4 Show if any column has null values (0.5pt)"
      ]
    },
    {
      "cell_type": "code",
      "execution_count": 25,
      "metadata": {
        "id": "youEZNzMnLbe",
        "colab": {
          "base_uri": "https://localhost:8080/"
        },
        "outputId": "f9243681-3fc1-4428-a91a-f777f495ba68"
      },
      "outputs": [
        {
          "output_type": "stream",
          "name": "stdout",
          "text": [
            "Unnamed: 0                0\n",
            "enrollee_id               0\n",
            "city                      0\n",
            "city_development_index    0\n",
            "gender                    0\n",
            "relevent_experience       0\n",
            "enrolled_university       0\n",
            "education_level           0\n",
            "major_discipline          0\n",
            "experience                0\n",
            "company_size              0\n",
            "company_type              0\n",
            "last_new_job              0\n",
            "training_hours            0\n",
            "target                    0\n",
            "dtype: int64\n"
          ]
        }
      ],
      "source": [
        "# TODO\n",
        "print(df.isnull().sum())"
      ]
    },
    {
      "cell_type": "markdown",
      "metadata": {
        "id": "2z3XH127sPTk"
      },
      "source": [
        "### 1.5 Show/Plot the count of unique target labels and discuss its imbalances and possible issues in using it for classification. (1.5pt)"
      ]
    },
    {
      "cell_type": "code",
      "execution_count": 26,
      "metadata": {
        "id": "abZRsNaHrbij",
        "colab": {
          "base_uri": "https://localhost:8080/",
          "height": 371
        },
        "outputId": "2bff5716-df7e-4289-a734-0c3bb3cdf370"
      },
      "outputs": [
        {
          "output_type": "stream",
          "name": "stderr",
          "text": [
            "/usr/local/lib/python3.8/dist-packages/seaborn/_decorators.py:36: FutureWarning: Pass the following variables as keyword args: x, y. From version 0.12, the only valid positional argument will be `data`, and passing other arguments without an explicit keyword will result in an error or misinterpretation.\n",
            "  warnings.warn(\n"
          ]
        },
        {
          "output_type": "display_data",
          "data": {
            "text/plain": [
              "<Figure size 432x288 with 1 Axes>"
            ],
            "image/png": "[encoded data removed]"
          },
          "metadata": {
            "needs_background": "light"
          }
        },
        {
          "output_type": "execute_result",
          "data": {
            "text/plain": [
              "'\\nIf the target labels are imbalanced, this means that some target labels have significantly more \\nsamples than others. Imbalanced datasets can lead to bias in classifiers that predict the majority class\\n'"
            ],
            "application/vnd.google.colaboratory.intrinsic+json": {
              "type": "string"
            }
          },
          "metadata": {},
          "execution_count": 26
        }
      ],
      "source": [
        "# TODO\n",
        "target_counts = df['target'].value_counts()\n",
        "sns.barplot(target_counts.index, target_counts.values)\n",
        "plt.xlabel('Label')\n",
        "plt.ylabel('Count')\n",
        "plt.show()\n",
        "\n",
        "'''\n",
        "If the target labels are imbalanced, this means that some target labels have significantly more \n",
        "samples than others. Imbalanced datasets can lead to bias in classifiers that predict the majority class\n",
        "'''"
      ]
    },
    {
      "cell_type": "markdown",
      "metadata": {
        "id": "BNbeIOjtynuO"
      },
      "source": [
        "# 2. Feature Selection and Pre-processing (25 pts total)"
      ]
    },
    {
      "cell_type": "markdown",
      "metadata": {
        "id": "owN9XnpJ1VWZ"
      },
      "source": [
        "## 2.1 Preprocessing City (1+1+1+1 = 4pts total)"
      ]
    },
    {
      "cell_type": "markdown",
      "metadata": {
        "id": "2qDnMLJy1PPF"
      },
      "source": [
        "### 2.1.1 Plot no. of records per city so that the highest city counts are shown in descending order (1pt)"
      ]
    },
    {
      "cell_type": "code",
      "execution_count": 27,
      "metadata": {
        "id": "PqC1hgu_sO--",
        "colab": {
          "base_uri": "https://localhost:8080/",
          "height": 684
        },
        "outputId": "91eaa077-a4a4-47b8-eeeb-8a477014b7bb"
      },
      "outputs": [
        {
          "output_type": "stream",
          "name": "stderr",
          "text": [
            "/usr/local/lib/python3.8/dist-packages/seaborn/_decorators.py:36: FutureWarning: Pass the following variables as keyword args: x, y. From version 0.12, the only valid positional argument will be `data`, and passing other arguments without an explicit keyword will result in an error or misinterpretation.\n",
            "  warnings.warn(\n"
          ]
        },
        {
          "output_type": "display_data",
          "data": {
            "text/plain": [
              "<Figure size 1440x720 with 1 Axes>"
            ],
            "image/png": "[encoded data removed]"
          },
          "metadata": {
            "needs_background": "light"
          }
        }
      ],
      "source": [
        "# TODO\n",
        "plt.figure(figsize = (20, 10))\n",
        "city_counts = df['city'].value_counts().sort_values(ascending = False)\n",
        "sns.barplot(city_counts.index, city_counts.values)\n",
        "plt.xlabel('City')\n",
        "plt.ylabel('Count')\n",
        "plt.xticks(rotation = 90)\n",
        "plt.show()"
      ]
    },
    {
      "cell_type": "markdown",
      "metadata": {
        "id": "s7WiOn891a7F"
      },
      "source": [
        "### 2.1.2 How many rows belong to the count-wise top 4 cities in total and how many for the remaining? (1pt)"
      ]
    },
    {
      "cell_type": "code",
      "execution_count": 28,
      "metadata": {
        "id": "RL9nN1Im1DrD",
        "colab": {
          "base_uri": "https://localhost:8080/"
        },
        "outputId": "aacce437-25af-4c77-b08b-2083fb33bd88"
      },
      "outputs": [
        {
          "output_type": "stream",
          "name": "stdout",
          "text": [
            "Rows belong to the top 4 cities: 5021\n",
            "Rows belong to the remaining cities: 3934\n"
          ]
        }
      ],
      "source": [
        "# TODO\n",
        "city_counts = df['city'].value_counts()\n",
        "top4_rows = city_counts[:4].sum()\n",
        "remain_rows = city_counts[4:].sum()\n",
        "print(\"Rows belong to the top 4 cities:\", top4_rows)\n",
        "print(\"Rows belong to the remaining cities:\", remain_rows)"
      ]
    },
    {
      "cell_type": "markdown",
      "metadata": {
        "id": "reZOuxsBSXGF"
      },
      "source": [
        "### 2.1.3 Replace the city name with city_others if the city name is not among the top 4 (1pt)"
      ]
    },
    {
      "cell_type": "code",
      "execution_count": 29,
      "metadata": {
        "id": "IxrFi5k1Oirf"
      },
      "outputs": [],
      "source": [
        "# TODO\n",
        "city_counts = df['city'].value_counts()\n",
        "top4 = city_counts[:4].index.tolist()\n",
        "df['city'] = np.where(df['city'].isin(top4), df['city'], \"city_others\")"
      ]
    },
    {
      "cell_type": "markdown",
      "metadata": {
        "id": "J09Oz726Sv90"
      },
      "source": [
        "### 2.1.4 Show some sample data that the records have changed correctly. (1pt)"
      ]
    },
    {
      "cell_type": "code",
      "execution_count": 30,
      "metadata": {
        "id": "esi0-ntwSvjX",
        "colab": {
          "base_uri": "https://localhost:8080/"
        },
        "outputId": "b160a08d-c828-45eb-a87e-10d6d70d48e0"
      },
      "outputs": [
        {
          "output_type": "stream",
          "name": "stdout",
          "text": [
            "   Unnamed: 0  enrollee_id         city  city_development_index gender  \\\n",
            "0           1        29725  city_others                   0.776   Male   \n",
            "1           4          666  city_others                   0.767   Male   \n",
            "2           7          402  city_others                   0.762   Male   \n",
            "3           8        27107     city_103                   0.920   Male   \n",
            "4          11        23853     city_103                   0.920   Male   \n",
            "5          12        25619  city_others                   0.913   Male   \n",
            "6          15         6588     city_114                   0.926   Male   \n",
            "\n",
            "       relevent_experience enrolled_university education_level  \\\n",
            "0   No relevent experience       no_enrollment        Graduate   \n",
            "1  Has relevent experience       no_enrollment         Masters   \n",
            "2  Has relevent experience       no_enrollment        Graduate   \n",
            "3  Has relevent experience       no_enrollment        Graduate   \n",
            "4  Has relevent experience       no_enrollment        Graduate   \n",
            "5  Has relevent experience       no_enrollment        Graduate   \n",
            "6  Has relevent experience       no_enrollment        Graduate   \n",
            "\n",
            "  major_discipline  experience company_size    company_type last_new_job  \\\n",
            "0             STEM        15.0        50-99         Pvt Ltd           >4   \n",
            "1             STEM        21.0        50-99  Funded Startup            4   \n",
            "2             STEM        13.0          <10         Pvt Ltd           >4   \n",
            "3             STEM         7.0        50-99         Pvt Ltd            1   \n",
            "4             STEM         5.0    5000-9999         Pvt Ltd            1   \n",
            "5             STEM        21.0    1000-4999         Pvt Ltd            3   \n",
            "6             STEM        16.0        10/49         Pvt Ltd           >4   \n",
            "\n",
            "   training_hours  target  \n",
            "0              47     0.0  \n",
            "1               8     0.0  \n",
            "2              18     1.0  \n",
            "3              46     1.0  \n",
            "4             108     0.0  \n",
            "5              23     0.0  \n",
            "6              18     0.0  \n"
          ]
        }
      ],
      "source": [
        "# TODO\n",
        "print(df.head(7))"
      ]
    },
    {
      "cell_type": "markdown",
      "metadata": {
        "id": "t8Y0Fz4RTAHc"
      },
      "source": [
        "## 2.2. Preprocessing Education Level (1+2+2+1 = 6pts total)"
      ]
    },
    {
      "cell_type": "markdown",
      "metadata": {
        "id": "EhNJLVAsTFT5"
      },
      "source": [
        "### 2.2.1. Show the unique values of education level. (1pt)"
      ]
    },
    {
      "cell_type": "code",
      "execution_count": 31,
      "metadata": {
        "id": "gIzfPOywTDEz",
        "colab": {
          "base_uri": "https://localhost:8080/"
        },
        "outputId": "8ab88333-f001-4393-fff8-ce6cdcc9f016"
      },
      "outputs": [
        {
          "output_type": "stream",
          "name": "stdout",
          "text": [
            "Unique values of education level: ['Graduate' 'Masters' 'Phd']\n"
          ]
        }
      ],
      "source": [
        "#TODO\n",
        "print(\"Unique values of education level:\", df['education_level'].unique())"
      ]
    },
    {
      "cell_type": "markdown",
      "metadata": {
        "id": "mbLeUaKvfttp"
      },
      "source": [
        "### 2.2.2. Write a function named replace_labels() that can replace labels using given {old_label:new_label} dictionary (2pts)\n",
        "\n",
        "Parameters: (1) dataframe, (2) a column name, (3) a dictionary with {old_label:new_label} mapping. \n",
        "\n",
        "Returns: a dataframe with specified column values replaced with the  \n"
      ]
    },
    {
      "cell_type": "code",
      "execution_count": 32,
      "metadata": {
        "id": "sptGBzaVfthA"
      },
      "outputs": [],
      "source": [
        "# TODO\n",
        "def replace_labels(df, col, mapping):\n",
        "  df[col] = df[col].map(mapping)\n",
        "  return df"
      ]
    },
    {
      "cell_type": "markdown",
      "metadata": {
        "id": "B3RuKvE8iYBu"
      },
      "source": [
        "### 2.2.3. Using the replace_labels() function you just created, replace education_level column with ordinal values. The mapping can be like \"Graduate\":0, \"Masters\":1, \"Phd\":2 . (2pt)"
      ]
    },
    {
      "cell_type": "code",
      "execution_count": 33,
      "metadata": {
        "id": "ZW1ZzKCihO0L"
      },
      "outputs": [],
      "source": [
        "# TODO\n",
        "education_mapping = {\"Graduate\": 0, \"Masters\": 1, \"Phd\": 2}\n",
        "df = replace_labels(df, \"education_level\", education_mapping)"
      ]
    },
    {
      "cell_type": "markdown",
      "metadata": {
        "id": "VibwcvMDnfHZ"
      },
      "source": [
        "### 2.2.4 Show some sample data that the records have changed appropriately (1pt)"
      ]
    },
    {
      "cell_type": "code",
      "execution_count": 34,
      "metadata": {
        "id": "JkObFS_bnecp",
        "colab": {
          "base_uri": "https://localhost:8080/"
        },
        "outputId": "57dc6020-9969-447c-dcf9-1e8611ab6954"
      },
      "outputs": [
        {
          "output_type": "stream",
          "name": "stdout",
          "text": [
            "   Unnamed: 0  enrollee_id         city  city_development_index gender  \\\n",
            "0           1        29725  city_others                   0.776   Male   \n",
            "1           4          666  city_others                   0.767   Male   \n",
            "2           7          402  city_others                   0.762   Male   \n",
            "3           8        27107     city_103                   0.920   Male   \n",
            "4          11        23853     city_103                   0.920   Male   \n",
            "5          12        25619  city_others                   0.913   Male   \n",
            "6          15         6588     city_114                   0.926   Male   \n",
            "\n",
            "       relevent_experience enrolled_university  education_level  \\\n",
            "0   No relevent experience       no_enrollment                0   \n",
            "1  Has relevent experience       no_enrollment                1   \n",
            "2  Has relevent experience       no_enrollment                0   \n",
            "3  Has relevent experience       no_enrollment                0   \n",
            "4  Has relevent experience       no_enrollment                0   \n",
            "5  Has relevent experience       no_enrollment                0   \n",
            "6  Has relevent experience       no_enrollment                0   \n",
            "\n",
            "  major_discipline  experience company_size    company_type last_new_job  \\\n",
            "0             STEM        15.0        50-99         Pvt Ltd           >4   \n",
            "1             STEM        21.0        50-99  Funded Startup            4   \n",
            "2             STEM        13.0          <10         Pvt Ltd           >4   \n",
            "3             STEM         7.0        50-99         Pvt Ltd            1   \n",
            "4             STEM         5.0    5000-9999         Pvt Ltd            1   \n",
            "5             STEM        21.0    1000-4999         Pvt Ltd            3   \n",
            "6             STEM        16.0        10/49         Pvt Ltd           >4   \n",
            "\n",
            "   training_hours  target  \n",
            "0              47     0.0  \n",
            "1               8     0.0  \n",
            "2              18     1.0  \n",
            "3              46     1.0  \n",
            "4             108     0.0  \n",
            "5              23     0.0  \n",
            "6              18     0.0  \n"
          ]
        }
      ],
      "source": [
        "# TODO\n",
        "print(df.head(7))"
      ]
    },
    {
      "cell_type": "markdown",
      "metadata": {
        "id": "pBI-qbDiXI2M"
      },
      "source": [
        "## 2.3. Preprocessing company_size (2+2+1 = 5pts total)"
      ]
    },
    {
      "cell_type": "markdown",
      "metadata": {
        "id": "fP7UisA6ZS9X"
      },
      "source": [
        "### 2.3.1 Show the unique values of the company_size column and their counts (2pt)"
      ]
    },
    {
      "cell_type": "code",
      "execution_count": 35,
      "metadata": {
        "id": "VYQ8sAQljncN",
        "colab": {
          "base_uri": "https://localhost:8080/"
        },
        "outputId": "5bfd8e76-0323-4b3b-b843-61df7844a47b"
      },
      "outputs": [
        {
          "output_type": "stream",
          "name": "stdout",
          "text": [
            "50-99        1986\n",
            "100-500      1814\n",
            "10000+       1449\n",
            "10/49         951\n",
            "1000-4999     930\n",
            "<10           840\n",
            "500-999       592\n",
            "5000-9999     393\n",
            "Name: company_size, dtype: int64\n"
          ]
        }
      ],
      "source": [
        "# TODO\n",
        "print(df['company_size'].value_counts())"
      ]
    },
    {
      "cell_type": "markdown",
      "metadata": {
        "id": "o1iq9fTcjWMU"
      },
      "source": [
        "### 2.3.2 Change the values of the company_size column from 0 to 7 where e0 is <10 and 7 is 10000+. The order of the numbers should be based on the values of the column-like an ordinary variable. (2pt)\n",
        "(Hint: you can use the replace_labels() function you created before.)"
      ]
    },
    {
      "cell_type": "code",
      "execution_count": 36,
      "metadata": {
        "id": "qi2Y6fJfeyDi"
      },
      "outputs": [],
      "source": [
        "# TODO\n",
        "company_size_mapping = {\"<10\": 0, \"10/49\": 1, \"50-99\": 2, \"100-500\": 3, \"500-999\": 4, \"1000-4999\": 5, \"5000-9999\": 6, \"10000+\": 7}\n",
        "df = replace_labels(df, \"company_size\", company_size_mapping)"
      ]
    },
    {
      "cell_type": "markdown",
      "metadata": {
        "id": "-1c8cj2wj0Bo"
      },
      "source": [
        "### 2.3.3 Show the updated unique values to validate they changed appropriately (1pt)"
      ]
    },
    {
      "cell_type": "code",
      "execution_count": 37,
      "metadata": {
        "id": "JNWa09UxelPH",
        "colab": {
          "base_uri": "https://localhost:8080/"
        },
        "outputId": "fd6eed00-efaa-4df9-8d4a-b79af3948ac6"
      },
      "outputs": [
        {
          "output_type": "stream",
          "name": "stdout",
          "text": [
            "[2 0 6 5 1 3 7 4]\n",
            "   Unnamed: 0  enrollee_id         city  city_development_index gender  \\\n",
            "0           1        29725  city_others                   0.776   Male   \n",
            "1           4          666  city_others                   0.767   Male   \n",
            "2           7          402  city_others                   0.762   Male   \n",
            "3           8        27107     city_103                   0.920   Male   \n",
            "4          11        23853     city_103                   0.920   Male   \n",
            "5          12        25619  city_others                   0.913   Male   \n",
            "6          15         6588     city_114                   0.926   Male   \n",
            "\n",
            "       relevent_experience enrolled_university  education_level  \\\n",
            "0   No relevent experience       no_enrollment                0   \n",
            "1  Has relevent experience       no_enrollment                1   \n",
            "2  Has relevent experience       no_enrollment                0   \n",
            "3  Has relevent experience       no_enrollment                0   \n",
            "4  Has relevent experience       no_enrollment                0   \n",
            "5  Has relevent experience       no_enrollment                0   \n",
            "6  Has relevent experience       no_enrollment                0   \n",
            "\n",
            "  major_discipline  experience  company_size    company_type last_new_job  \\\n",
            "0             STEM        15.0             2         Pvt Ltd           >4   \n",
            "1             STEM        21.0             2  Funded Startup            4   \n",
            "2             STEM        13.0             0         Pvt Ltd           >4   \n",
            "3             STEM         7.0             2         Pvt Ltd            1   \n",
            "4             STEM         5.0             6         Pvt Ltd            1   \n",
            "5             STEM        21.0             5         Pvt Ltd            3   \n",
            "6             STEM        16.0             1         Pvt Ltd           >4   \n",
            "\n",
            "   training_hours  target  \n",
            "0              47     0.0  \n",
            "1               8     0.0  \n",
            "2              18     1.0  \n",
            "3              46     1.0  \n",
            "4             108     0.0  \n",
            "5              23     0.0  \n",
            "6              18     0.0  \n"
          ]
        }
      ],
      "source": [
        "# TODO\n",
        "print(df['company_size'].unique())\n",
        "print(df.head(7))"
      ]
    },
    {
      "cell_type": "markdown",
      "metadata": {
        "id": "ray9mgZGkMyg"
      },
      "source": [
        "## 2.4. Preprocessing last_new_job (1+2+1 = 4pts total)"
      ]
    },
    {
      "cell_type": "markdown",
      "metadata": {
        "id": "Ry0YEyP7kP51"
      },
      "source": [
        "### 2.4.1 Show unique values of the last_new_job column (1pt)"
      ]
    },
    {
      "cell_type": "code",
      "execution_count": 38,
      "metadata": {
        "id": "9aGPR049kSuN",
        "colab": {
          "base_uri": "https://localhost:8080/"
        },
        "outputId": "360bee12-acfb-4c71-be6a-f077fb148d01"
      },
      "outputs": [
        {
          "output_type": "stream",
          "name": "stdout",
          "text": [
            "['>4' '4' '1' '3' '2' 'never']\n"
          ]
        }
      ],
      "source": [
        "# TODO\n",
        "print(df['last_new_job'].unique())"
      ]
    },
    {
      "cell_type": "markdown",
      "metadata": {
        "id": "KowRVFGOkXv4"
      },
      "source": [
        "### 2.4.2 Convert the values of this column to never->0, 1->1,....>4 -->5 (2pt)\n",
        "Hint: replace_labels()"
      ]
    },
    {
      "cell_type": "code",
      "execution_count": 39,
      "metadata": {
        "id": "4AfLULymkZu3"
      },
      "outputs": [],
      "source": [
        "# TODO\n",
        "last_new_job_mapping = {\"never\": 0, \"1\": 1, \"2\": 2, \"3\": 3, \"4\": 4, \">4\": 5}\n",
        "df = replace_labels(df, 'last_new_job', last_new_job_mapping)"
      ]
    },
    {
      "cell_type": "markdown",
      "metadata": {
        "id": "3T-Wjg6dk3Uj"
      },
      "source": [
        "### 2.4.3 Show the updated values (1pt)"
      ]
    },
    {
      "cell_type": "code",
      "execution_count": 40,
      "metadata": {
        "id": "dpI9oBlbk5bb",
        "colab": {
          "base_uri": "https://localhost:8080/"
        },
        "outputId": "5f978302-48eb-4f4f-bd7f-2d48a15420b9"
      },
      "outputs": [
        {
          "output_type": "stream",
          "name": "stdout",
          "text": [
            "[5 4 1 3 2 0]\n"
          ]
        }
      ],
      "source": [
        "# TODO\n",
        "print(df['last_new_job'].unique())"
      ]
    },
    {
      "cell_type": "markdown",
      "metadata": {
        "id": "3R2tk1uJlGa5"
      },
      "source": [
        "## 2.5 Preprocessing other columns (2pt total)"
      ]
    },
    {
      "cell_type": "markdown",
      "metadata": {
        "id": "RuJyodTglKCH"
      },
      "source": [
        "### 2.5.1 Drop the enrollee_id, any unnamed columns, and any duplicate columns (if you created multiple columns one with original and one with updated, then remove the original one) (2pt)"
      ]
    },
    {
      "cell_type": "code",
      "execution_count": 41,
      "metadata": {
        "id": "f8eJgpamlOfr"
      },
      "outputs": [],
      "source": [
        "# TODO\n",
        "df.drop(columns = [\"enrollee_id\"], inplace = True)\n",
        "df.drop(df.columns[df.columns.str.contains('unnamed',case = False)], axis = 1, inplace = True)\n",
        "df.drop(df.columns[df.columns.duplicated()], inplace = True)"
      ]
    },
    {
      "cell_type": "markdown",
      "metadata": {
        "id": "5M9JeVgJowZm"
      },
      "source": [
        "## 2.6 Feature Scaling (3+1 = 4ps total)"
      ]
    },
    {
      "cell_type": "markdown",
      "metadata": {
        "id": "oYeJBSu9o0-V"
      },
      "source": [
        "### 2.6.1 Use sklearn.preprocessing's MinMaxScaler to perform min max scaling to all the numeric columns (3pt)"
      ]
    },
    {
      "cell_type": "code",
      "execution_count": 42,
      "metadata": {
        "id": "0TZHEB3srp2x"
      },
      "outputs": [],
      "source": [
        "# TODO\n",
        "from sklearn.preprocessing import MinMaxScaler\n",
        "numeric = df.select_dtypes(include=[np.number]).columns\n",
        "scaler = MinMaxScaler()\n",
        "df[numeric] = scaler.fit_transform(df[numeric])"
      ]
    },
    {
      "cell_type": "markdown",
      "metadata": {
        "id": "fCradyXLQWct"
      },
      "source": [
        "### 2.6.2 Show some of the scaled records. (1pt)"
      ]
    },
    {
      "cell_type": "code",
      "execution_count": 43,
      "metadata": {
        "id": "AUBUON0a1DqI",
        "colab": {
          "base_uri": "https://localhost:8080/"
        },
        "outputId": "6d315b59-47c3-4d54-c206-babd60ba9629"
      },
      "outputs": [
        {
          "output_type": "stream",
          "name": "stdout",
          "text": [
            "          city  city_development_index gender      relevent_experience  \\\n",
            "0  city_others                0.654691   Male   No relevent experience   \n",
            "1  city_others                0.636727   Male  Has relevent experience   \n",
            "2  city_others                0.626747   Male  Has relevent experience   \n",
            "3     city_103                0.942116   Male  Has relevent experience   \n",
            "4     city_103                0.942116   Male  Has relevent experience   \n",
            "5  city_others                0.928144   Male  Has relevent experience   \n",
            "6     city_114                0.954092   Male  Has relevent experience   \n",
            "\n",
            "  enrolled_university  education_level major_discipline  experience  \\\n",
            "0       no_enrollment              0.0             STEM    0.714286   \n",
            "1       no_enrollment              0.5             STEM    1.000000   \n",
            "2       no_enrollment              0.0             STEM    0.619048   \n",
            "3       no_enrollment              0.0             STEM    0.333333   \n",
            "4       no_enrollment              0.0             STEM    0.238095   \n",
            "5       no_enrollment              0.0             STEM    1.000000   \n",
            "6       no_enrollment              0.0             STEM    0.761905   \n",
            "\n",
            "   company_size    company_type  last_new_job  training_hours  target  \n",
            "0      0.285714         Pvt Ltd           1.0        0.137313     0.0  \n",
            "1      0.285714  Funded Startup           0.8        0.020896     0.0  \n",
            "2      0.000000         Pvt Ltd           1.0        0.050746     1.0  \n",
            "3      0.285714         Pvt Ltd           0.2        0.134328     1.0  \n",
            "4      0.857143         Pvt Ltd           0.2        0.319403     0.0  \n",
            "5      0.714286         Pvt Ltd           0.6        0.065672     0.0  \n",
            "6      0.142857         Pvt Ltd           1.0        0.050746     0.0  \n"
          ]
        }
      ],
      "source": [
        "# TODO\n",
        "print(df.head(7))"
      ]
    },
    {
      "cell_type": "markdown",
      "metadata": {
        "id": "bAqPdBXbum0v"
      },
      "source": [
        "# 3. X/Y and Training/Test Split with stratified sampling (15pts in total)"
      ]
    },
    {
      "cell_type": "markdown",
      "metadata": {
        "id": "n0vy1uyKF5DV"
      },
      "source": [
        "### 3.1 Using a lot of features with categorical values is not memory-efficient. Use a LabelEncoder() to convert all the categorical columns to numeric labels. (This task is similar to previous assignment A1) (2pt)"
      ]
    },
    {
      "cell_type": "code",
      "execution_count": 44,
      "metadata": {
        "id": "QTDOZN6adW3m"
      },
      "outputs": [],
      "source": [
        "# TODO\n",
        "from sklearn.preprocessing import LabelEncoder\n",
        "le = LabelEncoder()\n",
        "categorical = df.select_dtypes(include=['object']).columns\n",
        "for x in categorical:\n",
        " df[x] = le.fit_transform(df[x])"
      ]
    },
    {
      "cell_type": "markdown",
      "metadata": {
        "id": "qgh6gbo__lAd"
      },
      "source": [
        "### 3.2 Copy all the features into X and the target to Y (2pt)"
      ]
    },
    {
      "cell_type": "code",
      "execution_count": 45,
      "metadata": {
        "id": "hJ5l0aLz_swD"
      },
      "outputs": [],
      "source": [
        "# TODO\n",
        "X = df.drop(['target'], axis=1)\n",
        "Y = df['target']"
      ]
    },
    {
      "cell_type": "markdown",
      "metadata": {
        "id": "7mxgOZ8bWCTG"
      },
      "source": [
        "### 3.3 Show the ratio of 1 and 0 in Y. (1pt)"
      ]
    },
    {
      "cell_type": "code",
      "execution_count": 46,
      "metadata": {
        "id": "xCTReI87WwIn",
        "colab": {
          "base_uri": "https://localhost:8080/"
        },
        "outputId": "288be13b-5d00-401a-cfa3-b0974d98e91f"
      },
      "outputs": [
        {
          "output_type": "stream",
          "name": "stdout",
          "text": [
            "0.0    0.834394\n",
            "1.0    0.165606\n",
            "Name: target, dtype: float64\n"
          ]
        }
      ],
      "source": [
        "# TODO\n",
        "unique, counts = np.unique(Y, return_counts=True)\n",
        "print(Y.value_counts(normalize=True))"
      ]
    },
    {
      "cell_type": "markdown",
      "metadata": {
        "id": "sYiNLcbZWw-p"
      },
      "source": [
        "### 3.4 Use sklearn's train_test_split() to split the data set into 70% training and 30% test sets. Set random_state to 42. We want to have the same ratio of 0 and 1 in the test set, use the stratify parameter to Y to ensure this. Then show the ratio of 1 and 0 in both train and test target. (4pt)"
      ]
    },
    {
      "cell_type": "code",
      "execution_count": 47,
      "metadata": {
        "id": "g-h2q8R4XQxX",
        "colab": {
          "base_uri": "https://localhost:8080/"
        },
        "outputId": "4406919e-d5d7-4317-a307-670f24c02c3b"
      },
      "outputs": [
        {
          "output_type": "stream",
          "name": "stdout",
          "text": [
            "Train Target\n",
            "0.0    0.834397\n",
            "1.0    0.165603\n",
            "Name: target, dtype: float64\n",
            "\n",
            "Test Target\n",
            "0.0    0.834388\n",
            "1.0    0.165612\n",
            "Name: target, dtype: float64\n"
          ]
        }
      ],
      "source": [
        "# TODO\n",
        "from sklearn.model_selection import train_test_split\n",
        "x_train, x_test, y_train, y_test = train_test_split(X, Y, test_size=0.3, random_state=42, stratify=Y)\n",
        "print(\"Train Target\")\n",
        "print(y_train.value_counts(normalize=True))\n",
        "\n",
        "print(\"\\nTest Target\")\n",
        "print(y_test.value_counts(normalize=True))"
      ]
    },
    {
      "cell_type": "markdown",
      "metadata": {
        "id": "9go74asN_4A3"
      },
      "source": [
        "### 3.5 Rebalancing (4+2 = 6pts)"
      ]
    },
    {
      "cell_type": "markdown",
      "metadata": {
        "id": "DcaOwlmnDFrN"
      },
      "source": [
        "3.5.1 Use imblearn's SMOTENC to balance the x_train\n"
      ]
    },
    {
      "cell_type": "markdown",
      "metadata": {
        "id": "TMo87lbJSiIB"
      },
      "source": [
        "When our training set have class imbalance, we often perform over-sampling to generate synthetic data that can help in training. SMOTE is a library by imblearn for this purpose. The usage is fairly straightforward. See documentation [here](https://imbalanced-learn.org/stable/references/generated/imblearn.over_sampling.SMOTENC.html#imblearn.over_sampling.SMOTENC) and a brief explanation with example [here](https://medium.com/analytics-vidhya/smote-nc-in-ml-categorization-models-fo-imbalanced-datasets-8adbdcf08c25)"
      ]
    },
    {
      "cell_type": "code",
      "execution_count": 48,
      "metadata": {
        "id": "Gg5q3iNCaCX5"
      },
      "outputs": [],
      "source": [
        "# TODO\n",
        "from imblearn.over_sampling import SMOTENC\n",
        "smotenc = SMOTENC(sampling_strategy='minority', categorical_features=[0, 1, 2])\n",
        "x_balance, y_balance = smotenc.fit_resample(x_train, y_train)"
      ]
    },
    {
      "cell_type": "markdown",
      "metadata": {
        "id": "OOLWrq4EC6pN"
      },
      "source": [
        "3.5.2 Did that change the ratio in label? Confirm by printing the ratio in resampled labels."
      ]
    },
    {
      "cell_type": "code",
      "execution_count": 49,
      "metadata": {
        "id": "gX5UzM45CgKg",
        "colab": {
          "base_uri": "https://localhost:8080/"
        },
        "outputId": "854d9c06-1a14-428f-b817-0f32309105d6"
      },
      "outputs": [
        {
          "output_type": "stream",
          "name": "stdout",
          "text": [
            "0.0    0.5\n",
            "1.0    0.5\n",
            "Name: target, dtype: float64\n"
          ]
        }
      ],
      "source": [
        "# TODO\n",
        "# Changed to 0.5 for each\n",
        "unique, counts = np.unique(y_balance, return_counts=True)\n",
        "print(y_balance.value_counts(normalize=True))"
      ]
    },
    {
      "cell_type": "markdown",
      "metadata": {
        "id": "IEKsXRt-aDbT"
      },
      "source": [
        "# 4. Decision Tree (20pts total)"
      ]
    },
    {
      "cell_type": "markdown",
      "metadata": {
        "id": "IW262Gdlakso"
      },
      "source": [
        "### 4.1 Initialize a decision tree model using sklearns DecisionTreeClassifier. Use the unbalanced training set. Set a consistent value for random_state parameter so that your result is reproducible. (1pt)"
      ]
    },
    {
      "cell_type": "code",
      "execution_count": 50,
      "metadata": {
        "id": "tZ8TFB2kauD8"
      },
      "outputs": [],
      "source": [
        "# TODO\n",
        "from sklearn.tree import DecisionTreeClassifier\n",
        "dt = DecisionTreeClassifier(random_state=42)"
      ]
    },
    {
      "cell_type": "markdown",
      "metadata": {
        "id": "Zl1qOJnvVXxh"
      },
      "source": [
        "### 4.2 Use grid search to find out the best combination of values for the parameters: criterion, max_depth, min_samples_split, max_features. Then print the best performing parameters. (4pt)"
      ]
    },
    {
      "cell_type": "code",
      "execution_count": 51,
      "metadata": {
        "id": "qQpIAji7M_od",
        "colab": {
          "base_uri": "https://localhost:8080/"
        },
        "outputId": "8aafc64d-3191-4647-f964-fc681731d890"
      },
      "outputs": [
        {
          "output_type": "stream",
          "name": "stdout",
          "text": [
            "Best performing parameters: {'criterion': 'gini', 'max_depth': 2, 'max_features': None, 'min_samples_split': 2}\n"
          ]
        }
      ],
      "source": [
        "# TODO\n",
        "from sklearn.model_selection import GridSearchCV\n",
        "grid = {'criterion': ['gini', 'entropy'],\n",
        "     'max_depth': [2, 3, 4, 5, 6, 7, 8, 9, 10],\n",
        "     'min_samples_split': [2, 3, 4, 5, 6, 7, 8, 9, 10],\n",
        "     'max_features': ['auto', 'log2', None]}\n",
        "grid_search = GridSearchCV(dt, grid, cv=5)\n",
        "grid_search.fit(x_train, y_train)\n",
        "best = grid_search.best_params_\n",
        "print(\"Best performing parameters:\", best)"
      ]
    },
    {
      "cell_type": "markdown",
      "metadata": {
        "id": "UJRSRsVeWC8y"
      },
      "source": [
        "### 4.3 Add the best performing parameter set to the already-initialized Decision Tree model. Then fit it on the train dataset. (2pt)"
      ]
    },
    {
      "cell_type": "code",
      "execution_count": 52,
      "metadata": {
        "id": "hEaJbzrlQaBY",
        "colab": {
          "base_uri": "https://localhost:8080/"
        },
        "outputId": "a5dc8e3a-8789-425f-d4e2-9b0cca3ace69"
      },
      "outputs": [
        {
          "output_type": "execute_result",
          "data": {
            "text/plain": [
              "DecisionTreeClassifier(max_depth=2, random_state=42)"
            ]
          },
          "metadata": {},
          "execution_count": 52
        }
      ],
      "source": [
        "# TODO\n",
        "dt = DecisionTreeClassifier(criterion=best['criterion'], \n",
        "               max_depth=best['max_depth'], \n",
        "               min_samples_split=best['min_samples_split'], \n",
        "               max_features=best['max_features'], \n",
        "               random_state=42)\n",
        "dt.fit(x_train, y_train)"
      ]
    },
    {
      "cell_type": "markdown",
      "metadata": {
        "id": "WPYRzwmIWeSZ"
      },
      "source": [
        "### 4.4 Import the accuracy_score, precision_score, recall_score, confusion_matrix, f1_score, roc_auc_score from scikitlearn's metrics package. Evaluate your Decision Tree on the Test dataset and print all the metrics. (3pt)"
      ]
    },
    {
      "cell_type": "code",
      "execution_count": 53,
      "metadata": {
        "id": "Opr3pQspcwQN",
        "colab": {
          "base_uri": "https://localhost:8080/"
        },
        "outputId": "f0fbe768-4a70-454b-ffb0-8a4a2f73767a"
      },
      "outputs": [
        {
          "output_type": "stream",
          "name": "stdout",
          "text": [
            "Accuracy: 0.8585783401563082\n",
            "Precision: 0.5818639798488665\n",
            "Recall: 0.5191011235955056\n",
            "Confusion Matrix:\n",
            " [[2076  166]\n",
            " [ 214  231]]\n",
            "F1 Score: 0.5486935866983373\n",
            "ROC-AUC Score: 0.72253004440257\n"
          ]
        }
      ],
      "source": [
        "# TODO\n",
        "from sklearn.metrics import accuracy_score, precision_score, recall_score, confusion_matrix, f1_score, roc_auc_score\n",
        "y_pred = dt.predict(x_test)\n",
        "\n",
        "accuracy = accuracy_score(y_test, y_pred)\n",
        "precision = precision_score(y_test, y_pred)\n",
        "recall = recall_score(y_test, y_pred)\n",
        "confusion_matrix = confusion_matrix(y_test, y_pred)\n",
        "f1_score = f1_score(y_test, y_pred)\n",
        "roc_auc_score = roc_auc_score(y_test, y_pred)\n",
        "\n",
        "print(\"Accuracy:\", accuracy)\n",
        "print(\"Precision:\", precision)\n",
        "print(\"Recall:\", recall)\n",
        "print(\"Confusion Matrix:\\n\", confusion_matrix)\n",
        "print(\"F1 Score:\", f1_score)\n",
        "print(\"ROC-AUC Score:\", roc_auc_score)"
      ]
    },
    {
      "cell_type": "markdown",
      "metadata": {
        "id": "2UP7aQs0GQwX"
      },
      "source": [
        "### 4.5 Plot the tree using scikitlearn's tree package. You may need to define a large figure size using matplotlib to have an intelligible figure. (2pt)"
      ]
    },
    {
      "cell_type": "code",
      "execution_count": 54,
      "metadata": {
        "id": "pnwDm0uiE-KP",
        "colab": {
          "base_uri": "https://localhost:8080/",
          "height": 1000
        },
        "outputId": "919d6dde-6e9f-482f-ed1e-18dd8d31521f"
      },
      "outputs": [
        {
          "output_type": "display_data",
          "data": {
            "text/plain": [
              "<Figure size 1800x1800 with 1 Axes>"
            ],
            "image/png": "[encoded data removed]"
          },
          "metadata": {
            "needs_background": "light"
          }
        }
      ],
      "source": [
        "# TODO\n",
        "from sklearn import tree\n",
        "plt.figure(figsize=(25, 25))\n",
        "tree.plot_tree(dt, filled=True)\n",
        "plt.show()"
      ]
    },
    {
      "cell_type": "markdown",
      "metadata": {
        "id": "RmrdrwU-Dvf6"
      },
      "source": [
        "### 4.6 Initialize a new Decision Tree model, then use the best set of parameters from Step 4.3 to train it on the balanced train set that you prepared in Step 3.5.1. (3pt)"
      ]
    },
    {
      "cell_type": "code",
      "execution_count": 55,
      "metadata": {
        "id": "7SD0orb7Dhdf",
        "colab": {
          "base_uri": "https://localhost:8080/"
        },
        "outputId": "71b218d0-b15f-4026-d7b1-2266672f4dac"
      },
      "outputs": [
        {
          "output_type": "execute_result",
          "data": {
            "text/plain": [
              "DecisionTreeClassifier(max_depth=2, random_state=42)"
            ]
          },
          "metadata": {},
          "execution_count": 55
        }
      ],
      "source": [
        "# TODO\n",
        "newdt = DecisionTreeClassifier(criterion=best['criterion'], \n",
        "               max_depth=best['max_depth'], \n",
        "               min_samples_split=best['min_samples_split'], \n",
        "               max_features=best['max_features'], \n",
        "               random_state=42)\n",
        "newdt.fit(x_balance, y_balance)"
      ]
    },
    {
      "cell_type": "markdown",
      "metadata": {
        "id": "ICoCAMplYVKh"
      },
      "source": [
        "### 4.7 Print the evaluation scores (accuracy_score, precision_score, recall_score, confusion_matrix, f1_score, roc_auc_score) from the training on balanced dataset. (3pt)"
      ]
    },
    {
      "cell_type": "code",
      "execution_count": 56,
      "metadata": {
        "id": "-VQUO4EvY0Xr",
        "colab": {
          "base_uri": "https://localhost:8080/"
        },
        "outputId": "666e8e5b-4a15-4c6a-d1fb-20109166ace9"
      },
      "outputs": [
        {
          "output_type": "stream",
          "name": "stdout",
          "text": [
            "Accuracy:  0.8585783401563082\n",
            "Precision:  0.5764705882352941\n",
            "Recall:  0.550561797752809\n",
            "Confusion Matrix: \n",
            " [[2062  180]\n",
            " [ 200  245]]\n",
            "F1 Score:  0.5632183908045977\n",
            "ROC AUC Score:  0.7351381691707846\n"
          ]
        }
      ],
      "source": [
        "# TODO\n",
        "from sklearn.metrics import accuracy_score, precision_score, recall_score, confusion_matrix, f1_score, roc_auc_score\n",
        "\n",
        "y_pred = newdt.predict(x_test)\n",
        "\n",
        "acs = accuracy_score(y_test, y_pred)\n",
        "ps = precision_score(y_test, y_pred)\n",
        "rs = recall_score(y_test, y_pred)\n",
        "cm = confusion_matrix(y_test, y_pred)\n",
        "f1 = f1_score(y_test, y_pred)\n",
        "ras = roc_auc_score(y_test, y_pred)\n",
        "\n",
        "print(\"Accuracy: \", acs)\n",
        "print(\"Precision: \", ps)\n",
        "print(\"Recall: \", rs)\n",
        "print(\"Confusion Matrix: \\n\", cm)\n",
        "print(\"F1 Score: \", f1)\n",
        "print(\"ROC AUC Score: \", ras)"
      ]
    },
    {
      "cell_type": "markdown",
      "metadata": {
        "id": "wMv-Nmaew3td"
      },
      "source": [
        "### 4.8 Discuss any difference between evaluation results from the unbalanced train set and balanced train set. (2pt)"
      ]
    },
    {
      "cell_type": "markdown",
      "metadata": {
        "id": "2c_ZSzbW1Opy"
      },
      "source": [
        "The recall from balanced train set has about 5% more than the recall from the  unbalanced train set."
      ]
    },
    {
      "cell_type": "markdown",
      "metadata": {
        "id": "x_h1QYuVSqQf"
      },
      "source": [
        "# 5. Random Forest Classifier (12pts total)"
      ]
    },
    {
      "cell_type": "markdown",
      "metadata": {
        "id": "36D52lOdVs2o"
      },
      "source": [
        "### 5.1 Use grid search to find best combinations of the following Random Forest parameters: n_estimators, max_depth, min_samples_split and min_samples_leaf. Use your own choice of scoring, criterion, number of folds for cross-validation for the model initialization. Remember the grid search can take a while to finish. (4pt)"
      ]
    },
    {
      "cell_type": "code",
      "execution_count": 57,
      "metadata": {
        "id": "ogCCZd3XStni",
        "colab": {
          "base_uri": "https://localhost:8080/"
        },
        "outputId": "9362151b-800d-49e2-87c7-130f0c399be6"
      },
      "outputs": [
        {
          "output_type": "stream",
          "name": "stdout",
          "text": [
            "Best parameters:  {'max_depth': 6, 'min_samples_leaf': 1, 'min_samples_split': 8, 'n_estimators': 10}\n"
          ]
        }
      ],
      "source": [
        "# TODO\n",
        "from sklearn.ensemble import RandomForestClassifier\n",
        "from sklearn.model_selection import GridSearchCV\n",
        "\n",
        "rfc = RandomForestClassifier(random_state=42)\n",
        "\n",
        "grid2 = {'n_estimators': [5, 10, 15],\n",
        "     'max_depth': [2, 4, 6, 8, 10],\n",
        "     'min_samples_split': [4, 6, 8, 10, 12],\n",
        "     'min_samples_leaf': [1, 2, 3]}\n",
        "\n",
        "grid_search = GridSearchCV(rfc, grid2, cv=5)\n",
        "grid_search.fit(x_train, y_train)\n",
        "best2 = grid_search.best_params_\n",
        "print(\"Best parameters: \", best2)"
      ]
    },
    {
      "cell_type": "markdown",
      "metadata": {
        "id": "gV2NO3hjaCEh"
      },
      "source": [
        "### 5.2 Print the best combination of parameters and use it to train a Random Forest classifier model. (3pt)"
      ]
    },
    {
      "cell_type": "code",
      "execution_count": 58,
      "metadata": {
        "id": "AgzZUi_kWxyh",
        "colab": {
          "base_uri": "https://localhost:8080/"
        },
        "outputId": "5efaee60-a3a9-4acb-8146-0599efb6494b"
      },
      "outputs": [
        {
          "output_type": "stream",
          "name": "stdout",
          "text": [
            "Best parameters: {'max_depth': 6, 'min_samples_leaf': 1, 'min_samples_split': 8, 'n_estimators': 10}\n"
          ]
        },
        {
          "output_type": "execute_result",
          "data": {
            "text/plain": [
              "RandomForestClassifier(max_depth=6, min_samples_split=8, n_estimators=10,\n",
              "                       random_state=42)"
            ]
          },
          "metadata": {},
          "execution_count": 58
        }
      ],
      "source": [
        "# TODO\n",
        "print(\"Best parameters:\", best2)\n",
        "\n",
        "rfc = RandomForestClassifier(n_estimators=best2['n_estimators'],\n",
        "                 max_depth=best2['max_depth'],\n",
        "                 min_samples_split=best2['min_samples_split'],\n",
        "                 min_samples_leaf=best2['min_samples_leaf'],\n",
        "                 random_state=42)\n",
        "\n",
        "rfc.fit(x_train, y_train)"
      ]
    },
    {
      "cell_type": "markdown",
      "metadata": {
        "id": "8p9ibWd8aSbk"
      },
      "source": [
        "### 5.3  Evaluate using the same metrics as before (accuracy_score, precision_score, recall_score, confusion_matrix, f1_score, roc_auc_score) (5pt)"
      ]
    },
    {
      "cell_type": "code",
      "execution_count": 59,
      "metadata": {
        "id": "6d5bRGXyYa8Z",
        "colab": {
          "base_uri": "https://localhost:8080/"
        },
        "outputId": "a4efda28-8693-4719-e7b2-59cb1d8d87e0"
      },
      "outputs": [
        {
          "output_type": "stream",
          "name": "stdout",
          "text": [
            "Accuracy:  0.854484555266096\n",
            "Precision:  0.5718085106382979\n",
            "Recall:  0.48314606741573035\n",
            "Confusion Matrix: \n",
            " [[2081  161]\n",
            " [ 230  215]]\n",
            "F1 Score:  0.5237515225334958\n",
            "ROC AUC Score:  0.7056675921378385\n"
          ]
        }
      ],
      "source": [
        "# TODO\n",
        "from sklearn.metrics import accuracy_score, precision_score, recall_score, confusion_matrix, f1_score, roc_auc_score\n",
        "\n",
        "y_pred = rfc.predict(x_test)\n",
        "\n",
        "acs = accuracy_score(y_test, y_pred)\n",
        "ps = precision_score(y_test, y_pred)\n",
        "rs = recall_score(y_test, y_pred)\n",
        "cm = confusion_matrix(y_test, y_pred)\n",
        "f1 = f1_score(y_test, y_pred)\n",
        "ras = roc_auc_score(y_test, y_pred)\n",
        "\n",
        "print(\"Accuracy: \", acs)\n",
        "print(\"Precision: \", ps)\n",
        "print(\"Recall: \", rs)\n",
        "print(\"Confusion Matrix: \\n\", cm)\n",
        "print(\"F1 Score: \", f1)\n",
        "print(\"ROC AUC Score: \", ras)"
      ]
    },
    {
      "cell_type": "markdown",
      "metadata": {
        "id": "-XuX9sEUcu42"
      },
      "source": [
        "# 6. Boosting Classifier (20 pts total)"
      ]
    },
    {
      "cell_type": "markdown",
      "metadata": {
        "id": "k9g6-WtWoQli"
      },
      "source": [
        "## 6.1 AdaBoost Classifier (10 pts total)"
      ]
    },
    {
      "cell_type": "markdown",
      "metadata": {
        "id": "94faLGF4dHDX"
      },
      "source": [
        "### 6.1.1 Perform a grid search for best values for parameters={n_estimators, learning_rate} of an AdaBoostClassifier and the given training set. (4pt) "
      ]
    },
    {
      "cell_type": "code",
      "execution_count": 60,
      "metadata": {
        "id": "jFwyYsHQc0jb",
        "colab": {
          "base_uri": "https://localhost:8080/"
        },
        "outputId": "ad6b4737-6ecf-4b61-db45-a13a8b54cd38"
      },
      "outputs": [
        {
          "output_type": "stream",
          "name": "stdout",
          "text": [
            "Best parameters:  {'learning_rate': 0.1, 'n_estimators': 50}\n"
          ]
        }
      ],
      "source": [
        "# TODO\n",
        "from sklearn.ensemble import AdaBoostClassifier\n",
        "\n",
        "ada = AdaBoostClassifier(random_state=42)\n",
        "\n",
        "grid = {\n",
        "    'n_estimators': [25, 50, 75],\n",
        "    'learning_rate': [0.05, 0.1, 0.5]\n",
        "}\n",
        "\n",
        "grid_search = GridSearchCV(ada, grid, scoring='accuracy', cv=5)\n",
        "grid_search.fit(x_train, y_train)\n",
        "best3 = grid_search.best_params_\n",
        "print(\"Best parameters: \", best3)"
      ]
    },
    {
      "cell_type": "markdown",
      "metadata": {
        "id": "Hmofa6lXcG5l"
      },
      "source": [
        "### 6.1.2 Train an AdaboostClassifier using the best parameter set you found in step 6.1.1 (3pt) "
      ]
    },
    {
      "cell_type": "code",
      "execution_count": 61,
      "metadata": {
        "id": "JiQmOcz8gjNi",
        "colab": {
          "base_uri": "https://localhost:8080/"
        },
        "outputId": "72193a4e-16f3-4739-bc33-8415d2c4a07a"
      },
      "outputs": [
        {
          "output_type": "execute_result",
          "data": {
            "text/plain": [
              "AdaBoostClassifier(learning_rate=0.1, random_state=42)"
            ]
          },
          "metadata": {},
          "execution_count": 61
        }
      ],
      "source": [
        "# TODO\n",
        "adaboost = AdaBoostClassifier(n_estimators=best3['n_estimators'], \n",
        "                learning_rate=best3['learning_rate'],\n",
        "                random_state=42)\n",
        "adaboost.fit(x_train, y_train)"
      ]
    },
    {
      "cell_type": "markdown",
      "metadata": {
        "id": "SOpbWfoTcYMS"
      },
      "source": [
        "### 6.1.3 Evaluate using the same metrics as before (accuracy_score, precision_score, recall_score, confusion_matrix, f1_score, roc_auc_score) (3pt)"
      ]
    },
    {
      "cell_type": "code",
      "execution_count": 62,
      "metadata": {
        "id": "mGS9o87aiQrP",
        "colab": {
          "base_uri": "https://localhost:8080/"
        },
        "outputId": "0c38a274-f4b4-46ac-fa89-f53ba0bfbd51"
      },
      "outputs": [
        {
          "output_type": "stream",
          "name": "stdout",
          "text": [
            "Accuracy:  0.8582061778935616\n",
            "Precision:  0.5754716981132075\n",
            "Recall:  0.5483146067415731\n",
            "Confusion Matrix: \n",
            " [[2062  180]\n",
            " [ 201  244]]\n",
            "F1 Score:  0.5615650172612199\n",
            "ROC AUC Score:  0.7340145736651665\n"
          ]
        }
      ],
      "source": [
        "# TODO\n",
        "from sklearn.metrics import accuracy_score, precision_score, recall_score, confusion_matrix, f1_score, roc_auc_score\n",
        "\n",
        "y_pred = adaboost.predict(x_test)\n",
        "\n",
        "acs = accuracy_score(y_test, y_pred)\n",
        "ps = precision_score(y_test, y_pred)\n",
        "rs = recall_score(y_test, y_pred)\n",
        "cm = confusion_matrix(y_test, y_pred)\n",
        "f1 = f1_score(y_test, y_pred)\n",
        "ras = roc_auc_score(y_test, y_pred)\n",
        "\n",
        "print(\"Accuracy: \", acs)\n",
        "print(\"Precision: \", ps)\n",
        "print(\"Recall: \", rs)\n",
        "print(\"Confusion Matrix: \\n\", cm)\n",
        "print(\"F1 Score: \", f1)\n",
        "print(\"ROC AUC Score: \", ras)"
      ]
    },
    {
      "cell_type": "markdown",
      "metadata": {
        "id": "5T2QO0aloZwg"
      },
      "source": [
        "## 6.2 Gradient Boosting Classifier (10 pts total)"
      ]
    },
    {
      "cell_type": "markdown",
      "metadata": {
        "id": "Xf-QJ-tVcnSU"
      },
      "source": [
        "### 6.2.1 Perform a grid search for best values for parameters={n_estimators, max_depth, learning_rate} of a GradientBoostingClassifier and the given training set. (4pt)"
      ]
    },
    {
      "cell_type": "code",
      "execution_count": 63,
      "metadata": {
        "id": "8erF7UBQhXd3",
        "colab": {
          "base_uri": "https://localhost:8080/"
        },
        "outputId": "c7fa9d3a-810a-46dc-f390-a15de0c1a525"
      },
      "outputs": [
        {
          "output_type": "stream",
          "name": "stdout",
          "text": [
            "Best parameters:  {'learning_rate': 0.1, 'max_depth': 1, 'n_estimators': 200}\n"
          ]
        }
      ],
      "source": [
        "# TODO\n",
        "from sklearn.ensemble import GradientBoostingClassifier\n",
        "from sklearn.model_selection import GridSearchCV\n",
        "\n",
        "rfc = GradientBoostingClassifier(random_state=42)\n",
        "\n",
        "grid3 = {'n_estimators': [100, 200, 300],\n",
        "      'max_depth': [1, 3, 5],\n",
        "      'learning_rate': [0.1, 0.05, 0.01]}\n",
        "\n",
        "grid_search = GridSearchCV(rfc, grid3, cv=5)\n",
        "grid_search.fit(x_train, y_train)\n",
        "best4 = grid_search.best_params_\n",
        "print(\"Best parameters: \", best4)"
      ]
    },
    {
      "cell_type": "markdown",
      "metadata": {
        "id": "RRZKR-bHott5"
      },
      "source": [
        "### 6.2.2 Train a GradientBoostingClassifier using the best parameter set you found in step 6.2.1 (3pt) "
      ]
    },
    {
      "cell_type": "code",
      "execution_count": 64,
      "metadata": {
        "id": "bAQZH-KqkrNq",
        "colab": {
          "base_uri": "https://localhost:8080/"
        },
        "outputId": "0f4cd178-7623-4b1b-9d78-60fc040007b3"
      },
      "outputs": [
        {
          "output_type": "execute_result",
          "data": {
            "text/plain": [
              "GradientBoostingClassifier(max_depth=1, n_estimators=200)"
            ]
          },
          "metadata": {},
          "execution_count": 64
        }
      ],
      "source": [
        "# TODO\n",
        "gbc = GradientBoostingClassifier(n_estimators=best4[\"n_estimators\"],\n",
        "                  max_depth=best4[\"max_depth\"],\n",
        "                  learning_rate=best4[\"learning_rate\"])\n",
        "\n",
        "gbc.fit(x_train, y_train)"
      ]
    },
    {
      "cell_type": "markdown",
      "metadata": {
        "id": "yzVtBSlpo9wF"
      },
      "source": [
        "### 6.2.3 Evaluate using the same metrics as before (accuracy_score, precision_score, recall_score, confusion_matrix, f1_score, roc_auc_score) (3pt)"
      ]
    },
    {
      "cell_type": "code",
      "execution_count": 65,
      "metadata": {
        "id": "-xl5Bdwyk8_W",
        "colab": {
          "base_uri": "https://localhost:8080/"
        },
        "outputId": "3d27b8b8-d750-44d1-ad70-0c454c0e0858"
      },
      "outputs": [
        {
          "output_type": "stream",
          "name": "stdout",
          "text": [
            "Accuracy:  0.8582061778935616\n",
            "Precision:  0.5772946859903382\n",
            "Recall:  0.5370786516853933\n",
            "Confusion Matrix: \n",
            " [[2067  175]\n",
            " [ 206  239]]\n",
            "F1 Score:  0.5564610011641443\n",
            "ROC AUC Score:  0.7295116719622328\n"
          ]
        }
      ],
      "source": [
        "# TODO\n",
        "from sklearn.metrics import accuracy_score, precision_score, recall_score, confusion_matrix, f1_score, roc_auc_score\n",
        "\n",
        "y_pred = gbc.predict(x_test)\n",
        "\n",
        "acs = accuracy_score(y_test, y_pred)\n",
        "ps = precision_score(y_test, y_pred)\n",
        "rs = recall_score(y_test, y_pred)\n",
        "cm = confusion_matrix(y_test, y_pred)\n",
        "f1 = f1_score(y_test, y_pred)\n",
        "ras = roc_auc_score(y_test, y_pred)\n",
        "\n",
        "print(\"Accuracy: \", acs)\n",
        "print(\"Precision: \", ps)\n",
        "print(\"Recall: \", rs)\n",
        "print(\"Confusion Matrix: \\n\", cm)\n",
        "print(\"F1 Score: \", f1)\n",
        "print(\"ROC AUC Score: \", ras)"
      ]
    },
    {
      "cell_type": "markdown",
      "metadata": {
        "id": "LW4nKeUQ2Ewh"
      },
      "source": [
        "# 7. Summary Discussion (4 pts)"
      ]
    },
    {
      "cell_type": "markdown",
      "metadata": {
        "id": "LSekQD9J2GTc"
      },
      "source": [
        "Which model yields the highest precision?\n",
        "\n",
        "Gradient Boosting\n",
        "\n",
        "Which model yields the lowest recall?\n",
        "\n",
        "Random Forest\n",
        "\n",
        "Which model yields the higest True Positive (TP)?\n",
        "\n",
        "Decision Tree\n",
        "\n",
        "Which model yields the best performance overall?\n",
        "\n",
        "Decision Tree\n",
        "\n"
      ]
    }
  ],
  "metadata": {
    "colab": {
      "provenance": []
    },
    "kernelspec": {
      "display_name": "Python 3",
      "language": "python",
      "name": "python3"
    },
    "language_info": {
      "name": "python",
      "version": "3.10.3 (tags/v3.10.3:a342a49, Mar 16 2022, 13:07:40) [MSC v.1929 64 bit (AMD64)]"
    },
    "vscode": {
      "interpreter": {
        "hash": "60b64012b5ed67907a10276cfdedd88214213599e926916fcf8c83729d3a7c3a"
      }
    }
  },
  "nbformat": 4,
  "nbformat_minor": 0
}