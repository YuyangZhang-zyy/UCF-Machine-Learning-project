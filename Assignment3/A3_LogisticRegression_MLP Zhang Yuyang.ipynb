{
  "cells": [
    {
      "cell_type": "markdown",
      "metadata": {
        "id": "7C8JgyY6FDKZ"
      },
      "source": [
        "# Your Name Here: Yuyang Zhang"
      ]
    },
    {
      "cell_type": "markdown",
      "metadata": {
        "id": "l5uwM5wlFDKe"
      },
      "source": [
        "# A3 LogisticRegression, Multi-layer Perceptron (MLP)"
      ]
    },
    {
      "cell_type": "markdown",
      "metadata": {
        "id": "6vo_LryrFDKf"
      },
      "source": [
        "## 1. Load data and perform general EDA (3+2+1+3+6 = 15pts)"
      ]
    },
    {
      "cell_type": "markdown",
      "metadata": {
        "id": "3un9whAQFDKf"
      },
      "source": [
        "### 1.1 import libraries: numpy, matplotlib.pyplot and pandas. (1+1+1 = 3pts)"
      ]
    },
    {
      "cell_type": "markdown",
      "metadata": {
        "id": "U-qf-zpnFDKg"
      },
      "source": [
        "You can import other libraries below as needed in any block."
      ]
    },
    {
      "cell_type": "code",
      "execution_count": 2,
      "metadata": {
        "id": "1T1OHsdoFDKg"
      },
      "outputs": [],
      "source": [
        "# TODO\n",
        "import numpy as np\n",
        "import matplotlib.pyplot as plt\n",
        "import pandas as pd"
      ]
    },
    {
      "cell_type": "markdown",
      "metadata": {
        "id": "RMp3D3ZIFDKi"
      },
      "source": [
        "### 1.2 import the data to a pandas dataframe and show the count of rows and columns (2pts)"
      ]
    },
    {
      "cell_type": "code",
      "execution_count": 3,
      "metadata": {
        "colab": {
          "base_uri": "https://localhost:8080/"
        },
        "id": "HTKyjvzUFDKj",
        "outputId": "1d8be249-a026-4ede-ef93-4b0d191c8cce"
      },
      "outputs": [
        {
          "output_type": "stream",
          "name": "stdout",
          "text": [
            "Drive already mounted at /content/drive; to attempt to forcibly remount, call drive.mount(\"/content/drive\", force_remount=True).\n"
          ]
        },
        {
          "output_type": "execute_result",
          "data": {
            "text/plain": [
              "(6497, 13)"
            ]
          },
          "metadata": {},
          "execution_count": 3
        }
      ],
      "source": [
        "# uncomment the following line if you are running this code in google colab and have uploaded the dataset to your drive\n",
        "from google.colab import drive\n",
        "drive.mount('/content/drive')\n",
        "\n",
        "# TODO\n",
        "file_name = '/content/drive/MyDrive/Wine_Quality_Data.csv' #you may need to change this line depending on the location of your file in Google Drive\n",
        "with open(file_name, 'r') as file:\n",
        " df = pd.read_csv(file_name)\n",
        "df.shape"
      ]
    },
    {
      "cell_type": "markdown",
      "metadata": {
        "id": "OOefREwmFDKj"
      },
      "source": [
        "### 1.3 Show if any column has null values. (1pt)"
      ]
    },
    {
      "cell_type": "code",
      "execution_count": 4,
      "metadata": {
        "colab": {
          "base_uri": "https://localhost:8080/"
        },
        "id": "9iiLwy_rFDKk",
        "outputId": "c16ece25-71f3-4334-d490-456b4dd2b506"
      },
      "outputs": [
        {
          "output_type": "stream",
          "name": "stdout",
          "text": [
            "fixed_acidity           0\n",
            "volatile_acidity        0\n",
            "citric_acid             0\n",
            "residual_sugar          0\n",
            "chlorides               0\n",
            "free_sulfur_dioxide     0\n",
            "total_sulfur_dioxide    0\n",
            "density                 0\n",
            "pH                      0\n",
            "sulphates               0\n",
            "alcohol                 0\n",
            "quality                 0\n",
            "color                   0\n",
            "dtype: int64\n"
          ]
        }
      ],
      "source": [
        "# TODO\n",
        "print(df.isnull().sum())"
      ]
    },
    {
      "cell_type": "markdown",
      "metadata": {
        "id": "TP5Y2rVJFDKl"
      },
      "source": [
        "### 1.4 We will use the 'quality' column as our target label. Print the count of each label in the dataset (in percentage). Mention which quality scores are among top 3 by their counts. (3pts)"
      ]
    },
    {
      "cell_type": "code",
      "execution_count": 6,
      "metadata": {
        "colab": {
          "base_uri": "https://localhost:8080/"
        },
        "id": "-_231UYcFDKl",
        "outputId": "42c564e4-4bf5-492c-c736-9bb922d73f20"
      },
      "outputs": [
        {
          "output_type": "stream",
          "name": "stdout",
          "text": [
            "Label Counts:\n",
            "6    43.650916\n",
            "5    32.907496\n",
            "7    16.607665\n",
            "4     3.324611\n",
            "8     2.970602\n",
            "3     0.461752\n",
            "9     0.076959\n",
            "Name: quality, dtype: float64\n",
            "Top 3 Quality Scores: [6, 5, 7]\n"
          ]
        }
      ],
      "source": [
        "# TODO\n",
        "label_counts = df['quality'].value_counts()\n",
        "print(\"Label Counts:\")\n",
        "print(label_counts * 100 / sum(label_counts))\n",
        "\n",
        "top3 = label_counts[:3].index.tolist()\n",
        "print(\"Top 3 Quality Scores:\", top3)"
      ]
    },
    {
      "cell_type": "markdown",
      "metadata": {
        "id": "Fe2_vWTLFDKl"
      },
      "source": [
        "### 1.5 Observe the correlation matrix for the columns. Name the pairs of columns with highest positive and highest negative correlations. (2+4 = 6pts) "
      ]
    },
    {
      "cell_type": "markdown",
      "metadata": {
        "id": "Ao-ApyFNFDKm"
      },
      "source": [
        "You can import and use seaborn here to visualize correlation matrix in a heatmap."
      ]
    },
    {
      "cell_type": "code",
      "execution_count": 7,
      "metadata": {
        "colab": {
          "base_uri": "https://localhost:8080/",
          "height": 845
        },
        "id": "IBtf1h-VFDKm",
        "outputId": "fb946a6c-27cc-4f3a-d49d-2ed6c9d44fc5"
      },
      "outputs": [
        {
          "output_type": "stream",
          "name": "stdout",
          "text": [
            "Pairs of columns with highest positive correlation:\n",
            " fixed_acidity     fixed_acidity       1.0\n",
            "volatile_acidity  volatile_acidity    1.0\n",
            "dtype: float64\n",
            "\n",
            "Pairs of columns with highest negative correlation:\n",
            " alcohol  density   -0.686745\n",
            "density  alcohol   -0.686745\n",
            "dtype: float64\n"
          ]
        },
        {
          "output_type": "display_data",
          "data": {
            "text/plain": [
              "<Figure size 720x720 with 2 Axes>"
            ],
            "image/png": "[encoded data removed]"
          },
          "metadata": {
            "needs_background": "light"
          }
        }
      ],
      "source": [
        "# TODO\n",
        "import seaborn as sns\n",
        "plt.figure(figsize = (10,10))\n",
        "corr_matrix = df.corr()\n",
        "sns.heatmap(corr_matrix, annot=True)\n",
        "\n",
        "print(\"Pairs of columns with highest positive correlation:\\n\", corr_matrix.unstack().sort_values(ascending=False)[:2])\n",
        "print(\"\\nPairs of columns with highest negative correlation:\\n\", corr_matrix.unstack().sort_values(ascending=True)[:2])"
      ]
    },
    {
      "cell_type": "markdown",
      "metadata": {
        "id": "16P6Mq8ZFDKm"
      },
      "source": [
        "## 2. Feature Selection and Preprocessing (2+2+3+3 = 10pts)"
      ]
    },
    {
      "cell_type": "markdown",
      "metadata": {
        "id": "ZWsOzm8XFDKn"
      },
      "source": [
        "### 2.1 Drop the 'color' attribute from the dataframe. (2pts)"
      ]
    },
    {
      "cell_type": "code",
      "execution_count": 8,
      "metadata": {
        "id": "4DLaeDQ9FDKn"
      },
      "outputs": [],
      "source": [
        "# TODO\n",
        "df = df.drop('color', axis=1)"
      ]
    },
    {
      "cell_type": "markdown",
      "metadata": {
        "id": "pUi-R5jlFDKn"
      },
      "source": [
        "### 2.2 Assign the 'quality' column to target label y, and all other columns to attribute matrix X (1+1 = 2pts)"
      ]
    },
    {
      "cell_type": "code",
      "execution_count": 9,
      "metadata": {
        "id": "btSeq-0hFDKo"
      },
      "outputs": [],
      "source": [
        "# TODO\n",
        "y = df['quality']\n",
        "X = df.drop('quality', axis=1)"
      ]
    },
    {
      "cell_type": "markdown",
      "metadata": {
        "id": "nNqrXmC7FDKo"
      },
      "source": [
        "### 2.3 Use scikitlearn's Standard Scaler to scale the feature matrix X. (3pts)"
      ]
    },
    {
      "cell_type": "code",
      "execution_count": 10,
      "metadata": {
        "id": "IblafhD8FDKo"
      },
      "outputs": [],
      "source": [
        "# TODO\n",
        "from sklearn.preprocessing import StandardScaler\n",
        "scaler = StandardScaler()\n",
        "X_scaled = scaler.fit_transform(X)"
      ]
    },
    {
      "cell_type": "markdown",
      "metadata": {
        "id": "Q1zHQpg8FDKo"
      },
      "source": [
        "### 2.4 Split Dataset into Training and Test set. (3 pts)\n",
        "Use 80:20 split for training and test. Also use stratified sampling to ensure balanced dataset."
      ]
    },
    {
      "cell_type": "code",
      "execution_count": 11,
      "metadata": {
        "id": "jI1Jl0EdFDKp"
      },
      "outputs": [],
      "source": [
        "# TODO\n",
        "from sklearn.model_selection import train_test_split\n",
        "X_train, X_test, y_train, y_test = train_test_split(X_scaled, y, test_size=0.2, stratify=y, random_state=42)"
      ]
    },
    {
      "cell_type": "markdown",
      "metadata": {
        "id": "jTFahQm2FDKp"
      },
      "source": [
        "## 3. Logistic Regression from scratch (10+10+10+25+20 = 75pts)\n"
      ]
    },
    {
      "cell_type": "markdown",
      "metadata": {
        "id": "WBvcds4UFDKp"
      },
      "source": [
        "In this section, you will write a logistic regression algorithm from scratch using python and numpy. You will first write some helper functions for transforming label encoding to one-hot encoding, for measuring the cross-entropy loss and predicting labels from test data. These functions will later be used in the logistic regression training and testing.   "
      ]
    },
    {
      "cell_type": "markdown",
      "metadata": {
        "id": "0VuWbxoaFDKq"
      },
      "source": [
        "### 3.1 The target label in our dataset is the 'quality' column. It consists of categorical values, label-encoded with 7 values in the range [3-9]. To perform a multiclass logistic regression, you need a function that takes a label matrix and converts it to One-hot encoded labels. (10pts)\n",
        "\n",
        "Write the function below following the docstring. "
      ]
    },
    {
      "cell_type": "code",
      "execution_count": 13,
      "metadata": {
        "id": "GOKLg-o4FDKq"
      },
      "outputs": [],
      "source": [
        "def onehot(y):\n",
        "    \"\"\"\n",
        "    Converts an array of labels to one-hot encoding.\n",
        "\n",
        "    Parameters:\n",
        "    -----------\n",
        "    y : numpy.ndarray\n",
        "        An array of labels. It must have a shape of (n_samples, ).\n",
        "\n",
        "    Returns:\n",
        "    --------\n",
        "    numpy.ndarray\n",
        "        A matrix of one-hot encoding. It has a shape of (n_samples, n_classes).\n",
        "    \"\"\"\n",
        "    \n",
        "    # TODO\n",
        "    onehot_matrix = np.zeros((len(y), len(np.unique(y))))\n",
        "    for i, label in enumerate(y):\n",
        "      onehot_matrix[i, label - 3] = 1\n",
        "    return onehot_matrix\n",
        "    "
      ]
    },
    {
      "cell_type": "markdown",
      "metadata": {
        "id": "kJdz4s2-FDKq"
      },
      "source": [
        "### 3.2 For multi-class classification, you also need to measure cross-entropy loss. Cross-entropy loss is measured by the following formula:\n",
        "$\\text{Cross-Entropy Loss} = -\\frac{1}{N} \\sum_{i=1}^N \\sum_{j=1}^n y_{ij} \\log \\hat{y}_{ij}$\n",
        "\n",
        "Write a function that takes two matrices: one matrix of true labels $y_{ij}$, and one matrix of the predicted labels by your model $\\hat{y}_{ij}$ (you are about to write the model function soon below), and returns the computed loss. **(10pts)**\n"
      ]
    },
    {
      "cell_type": "code",
      "execution_count": 14,
      "metadata": {
        "id": "uoqH9__CFDKr"
      },
      "outputs": [],
      "source": [
        "def cross_entropy_loss(y_true, y_pred):\n",
        "    \"\"\"\n",
        "    Computes the cross-entropy loss between the true labels and predicted labels.\n",
        "\n",
        "    Parameters\n",
        "    ----------\n",
        "    y_true : numpy array\n",
        "        Array of true labels with shape (m, n_classes).\n",
        "    y_pred : numpy array\n",
        "        Array of predicted labels with shape (m, n_classes).\n",
        "\n",
        "    Returns\n",
        "    -------\n",
        "    float\n",
        "        Cross-entropy loss between y_true and y_pred.\n",
        "\n",
        "    Notes\n",
        "    -----\n",
        "    This function assumes that the labels are one-hot encoded.\n",
        "    \"\"\"\n",
        "    \n",
        "    # TODO\n",
        "    m = y_true.shape[0]\n",
        "    loss = -1/m * np.sum(y_true * np.log(y_pred))\n",
        "    return loss"
      ]
    },
    {
      "cell_type": "markdown",
      "metadata": {
        "id": "JDjmWpiZFDKr"
      },
      "source": [
        "### 3.3 Write a function for softmax activation to compute probabilities from the linear score $z_i$. Softmax function uses the following formula:\n",
        "$$\\sigma(z_i) = \\frac{e^{z_i}}{\\sum_{j=1}^{k}e^{z_j}} , \\text{for } i=1,2,3,...,k $$\n",
        "where $z_i$ is the linear layer score for i-th input.   \n",
        "\n",
        "**(10pts)**"
      ]
    },
    {
      "cell_type": "code",
      "execution_count": 17,
      "metadata": {
        "id": "8FoeVkrmFDKr"
      },
      "outputs": [],
      "source": [
        "def softmax(scores):\n",
        "    \"\"\"\n",
        "    Compute the softmax of the given scores.\n",
        "\n",
        "    Parameters:\n",
        "    -----------\n",
        "    scores : numpy.ndarray\n",
        "        A 2D numpy array of shape (m, n), where m is the number of samples and n is the number of classes.\n",
        "\n",
        "    Returns:\n",
        "    --------\n",
        "    probs : numpy.ndarray\n",
        "        A 2D numpy array of shape (m, n) containing the probabilities of each sample belonging to each class.\n",
        "    \"\"\"\n",
        "       \n",
        "    # TODO\n",
        "    exp_scores = np.exp(scores - np.max(scores, axis=1, keepdims=True))\n",
        "    probs = exp_scores / np.sum(exp_scores, axis=1, keepdims=True)\n",
        "    return probs"
      ]
    },
    {
      "cell_type": "markdown",
      "metadata": {
        "id": "EoUN9LseFDKs"
      },
      "source": [
        "### 3.4 Model development (20+5 = 25pts)"
      ]
    },
    {
      "cell_type": "markdown",
      "metadata": {
        "id": "9ECHSHOZFDKs"
      },
      "source": [
        "**3.4.1** Write a function for the logistic regression algorithm. You will use the functions you have written above in this module. Recall that with gradient descent optimization, the computation loop goes as:\n",
        "For each epoch:\n",
        "1. Compute $scores = X_{train} W + b$ \n",
        "2. Compute probability = softmax(scores)\n",
        "3. Compute Cross-entropy Loss\n",
        "4. Compute gradients of the loss with respect to the weights and bias.\n",
        "\n",
        "    Partial derivative of Loss with respect to Weight matrix:\n",
        "    $$\\frac{\\partial L}{\\partial W} = -\\frac{1}{m} X^T \\left(y - \\hat{y}\\right)$$\n",
        "\n",
        "    Partial derivative of Loss with respect to Bias matrix:\n",
        "    $$\\frac{\\partial L}{\\partial b_j} = -\\frac{1}{m} \\sum_{i=1}^m \\left(y_{ij} - p_{ij}\\right) $$\n",
        "\n",
        "5. Update the weights and biases\n",
        "    $$ W = W - (learning\\ rate * weight\\ gradient)  $$\n",
        "    $$ b = b - (learning\\ rate * weight\\ gradient)  $$\n",
        "\n",
        "**(20pts)**"
      ]
    },
    {
      "cell_type": "code",
      "execution_count": 23,
      "metadata": {
        "id": "tB87yFs3FDKs"
      },
      "outputs": [],
      "source": [
        "def logistic_regression(X_train, y_train):\n",
        "    \"\"\"\n",
        "    Performs logistic regression using softmax activation and gradient descent optimizer to classify the input data.\n",
        "\n",
        "    Parameters:\n",
        "    -----------\n",
        "    X_train : numpy.ndarray\n",
        "        The input training data of shape (num_samples, num_features).\n",
        "    y_train : numpy.ndarray\n",
        "        The training labels of shape (num_samples,).\n",
        "\n",
        "    Returns:\n",
        "    --------\n",
        "    W : numpy.ndarray\n",
        "        The learned weights of shape (num_features, num_classes).\n",
        "    b : numpy.ndarray\n",
        "        The learned bias of shape (1, num_classes).\n",
        "    loss_list : list\n",
        "        The list of loss values at each epoch during training.\n",
        "    \"\"\"\n",
        "\n",
        "    # get the number of samples and features from X_train (2pts)\n",
        "    # TODO\n",
        "    num_samples, num_features = X_train.shape\n",
        "\n",
        "    # convert training labels to one-hot encoded labels (2pts)\n",
        "    # TODO\n",
        "    y_train_onehot = onehot(y_train)\n",
        "\n",
        "    # get the number of target classes from y_train (2pts)\n",
        "    # TODO\n",
        "    num_classes = y_train_onehot.shape[1]\n",
        "\n",
        "    # initialize the weights and bias with numpy arrays of zeros (1+1 = 2pts)\n",
        "    # TODO\n",
        "    W = np.zeros((num_features, num_classes))\n",
        "    b = np.zeros((1, num_classes))\n",
        "\n",
        "    # set hyperparameters (1+1 = 2pts)\n",
        "    ## set a learning rate\n",
        "    # TODO\n",
        "    lr = 0.01\n",
        "    ## set the max number of epochs you want to train for\n",
        "    # TODO\n",
        "    max_epochs = 1000\n",
        "    ## initialize a list to store the loss values (1pt)\n",
        "    # TODO\n",
        "    loss_list = []\n",
        "    \n",
        "    '''\n",
        "    Write a for loop over epochs.\n",
        "    In each epoch:\n",
        "        compute the score for each class, \n",
        "        compute the softmax probabilities, \n",
        "        compute the cross-entropy loss, \n",
        "        compute the gradients of the loss with respect to the weights and bias, \n",
        "        update the weights and bias using the gradients and the learning rate.\n",
        "    '''\n",
        "    # (9pts)\n",
        "    # TODO\n",
        "    for e in range(max_epochs):\n",
        "        # compute the score (Z) for each class. \n",
        "        # TODO\n",
        "        Z = np.dot(X_train, W) + b\n",
        "\n",
        "        # calculate the softmax probabilities\n",
        "        # TODO\n",
        "        probs = softmax(Z)\n",
        "\n",
        "        # compute the cross-entropy loss\n",
        "        # TODO\n",
        "        loss = cross_entropy_loss(y_train_onehot, probs)\n",
        "\n",
        "        # compute the gradients of the loss with respect to the weights and bias\n",
        "        # TODO\n",
        "        dW = -1 / num_samples * np.dot(X_train.T, (y_train_onehot - probs))\n",
        "        db = -1 / num_samples * np.sum(y_train_onehot - probs, axis=0, keepdims=True)\n",
        "\n",
        "        # update the weights and bias using the gradients and the learning rate\n",
        "        # TODO\n",
        "        W -= lr * dW\n",
        "        b -= lr * db\n",
        "\n",
        "        # For tracking progress, print the loss every 100 epochs\n",
        "        # TODO\n",
        "        if e % 100 == 0:\n",
        "          print(f\"Loss at epoch {e}: {loss}\")\n",
        "        loss_list.append(loss)\n",
        "    return W, b, loss_list"
      ]
    },
    {
      "cell_type": "markdown",
      "metadata": {
        "id": "CmwRnWtJFDKt"
      },
      "source": [
        "**3.4.2** Now that you have the model and the helper function, train the model with your prepared training dataset. Then plot the training loss curve. **(5pts)**"
      ]
    },
    {
      "cell_type": "code",
      "execution_count": 24,
      "metadata": {
        "colab": {
          "base_uri": "https://localhost:8080/",
          "height": 475
        },
        "id": "g7PiSSTFFDKt",
        "outputId": "6cad291d-1ef2-495d-9938-4fa18d19d94f"
      },
      "outputs": [
        {
          "output_type": "stream",
          "name": "stdout",
          "text": [
            "Loss at epoch 0: 1.9459101490553132\n",
            "Loss at epoch 100: 1.7026863237094045\n",
            "Loss at epoch 200: 1.5443444179679695\n",
            "Loss at epoch 300: 1.4395104149392772\n",
            "Loss at epoch 400: 1.3674225821383603\n",
            "Loss at epoch 500: 1.3160019260141653\n",
            "Loss at epoch 600: 1.278154082587394\n",
            "Loss at epoch 700: 1.2495271762885807\n",
            "Loss at epoch 800: 1.2273427665579695\n",
            "Loss at epoch 900: 1.2097714482568198\n"
          ]
        },
        {
          "output_type": "display_data",
          "data": {
            "text/plain": [
              "<Figure size 432x288 with 1 Axes>"
            ],
            "image/png": "[encoded data removed]"
          },
          "metadata": {
            "needs_background": "light"
          }
        }
      ],
      "source": [
        "# train the model\n",
        "# TODO\n",
        "W, b, loss_list = logistic_regression(X_train, y_train)\n",
        "\n",
        "# plot the loss curve\n",
        "# TODO\n",
        "plt.plot(loss_list)\n",
        "plt.xlabel('Epochs')\n",
        "plt.ylabel('Loss')\n",
        "plt.title('Cross-Entropy Loss')\n",
        "plt.show()"
      ]
    },
    {
      "cell_type": "markdown",
      "metadata": {
        "id": "QX-Yjl7tFDKu"
      },
      "source": [
        "### 3.5 Evaluation (10+1+4+3+2 = 20pts)"
      ]
    },
    {
      "cell_type": "markdown",
      "metadata": {
        "id": "Yjm4JNbWFDKu"
      },
      "source": [
        "Write a function to predict the labels of X_test using the model trained above and return the predicted labels as categorical values similar to train labels. **(10pts)**\n",
        "\n",
        "Note: By default, the predicted labels may return values within [0-6] instead of the original labels [3-9]. This can happen due to using argmax() to get label encoding from one-hot encoding when predicting test labels. You can add a simple offset to the argmax outputs of predicted labels to shift them to the range of [3-9]. This is important to note as you may see a very low accuracy even with a good model if true labels and predicted labels are not associated with the same categorical scale. "
      ]
    },
    {
      "cell_type": "code",
      "execution_count": 25,
      "metadata": {
        "id": "Vpa5ReDFFDKu"
      },
      "outputs": [],
      "source": [
        "def predict(X_test, W, b):\n",
        "    '''\n",
        "    X_test: a numpy array of testing features\n",
        "    W: a numpy array of weights\n",
        "    b: a numpy array of bias\n",
        "    return: a numpy array of one-hot encoded labels\n",
        "    '''\n",
        "    # compute the scores\n",
        "    # TODO\n",
        "    scores = np.dot(X_test, W) + b\n",
        "    \n",
        "    # compute the probabilities\n",
        "    # TODO\n",
        "    probs = softmax(scores)\n",
        "    \n",
        "    # get the predicted labels\n",
        "    # TODO\n",
        "    pred_labels = np.argmax(probs, axis=1)\n",
        "    \n",
        "    # add an offset of 3 to shift the predicted labels from [0-6] to [3-9]\n",
        "    pred_labels += 3\n",
        "    \n",
        "    # return the predicted labels as categorical values\n",
        "    return pred_labels"
      ]
    },
    {
      "cell_type": "markdown",
      "metadata": {
        "id": "LdtCld_4FDKv"
      },
      "source": [
        "**3.5.1** import accuracy_score, confusion_matrix, precision_score, recall_score and f1_score from scikitlearn **(1pts)**"
      ]
    },
    {
      "cell_type": "code",
      "execution_count": 26,
      "metadata": {
        "id": "JHv754RPFDKv"
      },
      "outputs": [],
      "source": [
        "# TODO\n",
        "from sklearn.metrics import accuracy_score, confusion_matrix, precision_score, recall_score, f1_score"
      ]
    },
    {
      "cell_type": "markdown",
      "metadata": {
        "id": "Of8FsP6cFDKv"
      },
      "source": [
        "**3.5.2** Print the prediction scores on test data in terms of accuracy, precision and recall score. **(4pts)**"
      ]
    },
    {
      "cell_type": "code",
      "execution_count": 27,
      "metadata": {
        "colab": {
          "base_uri": "https://localhost:8080/"
        },
        "id": "FVP-mf-CFDKv",
        "outputId": "24c22a9b-36ce-4321-ac34-3bbcc35b967b"
      },
      "outputs": [
        {
          "output_type": "stream",
          "name": "stdout",
          "text": [
            "Accuracy: 0.53\n",
            "Precision: 0.23\n",
            "Recall: 0.21\n"
          ]
        },
        {
          "output_type": "stream",
          "name": "stderr",
          "text": [
            "/usr/local/lib/python3.9/dist-packages/sklearn/metrics/_classification.py:1344: UndefinedMetricWarning: Precision is ill-defined and being set to 0.0 in labels with no predicted samples. Use `zero_division` parameter to control this behavior.\n",
            "  _warn_prf(average, modifier, msg_start, len(result))\n"
          ]
        }
      ],
      "source": [
        "# TODO\n",
        "y_pred = predict(X_test, W, b)\n",
        "\n",
        "# calculate the accuracy score\n",
        "acc = accuracy_score(y_test, y_pred)\n",
        "\n",
        "# calculate the precision score\n",
        "prec = precision_score(y_test, y_pred, average='macro')\n",
        "\n",
        "# calculate the recall score\n",
        "rec = recall_score(y_test, y_pred, average='macro')\n",
        "\n",
        "# print the accuracy, precision, and recall scores\n",
        "print(f\"Accuracy: {acc:.2f}\")\n",
        "print(f\"Precision: {prec:.2f}\")\n",
        "print(f\"Recall: {rec:.2f}\")"
      ]
    },
    {
      "cell_type": "markdown",
      "metadata": {
        "id": "dtZZ7SU4FDKv"
      },
      "source": [
        "**3.5.3** Generate and visualize the confusion matrix. You can use seaborn heatmap to visualize a heatmap of the confusion matrix. **(3pts)**"
      ]
    },
    {
      "cell_type": "code",
      "execution_count": 33,
      "metadata": {
        "id": "7-rFUyTXFDKw",
        "colab": {
          "base_uri": "https://localhost:8080/",
          "height": 279
        },
        "outputId": "92ca2665-be65-4b2b-e746-31b0831cfddf"
      },
      "outputs": [
        {
          "output_type": "display_data",
          "data": {
            "text/plain": [
              "<Figure size 432x288 with 2 Axes>"
            ],
            "image/png": "[encoded data removed]"
          },
          "metadata": {
            "needs_background": "light"
          }
        }
      ],
      "source": [
        "# TODO\n",
        "import seaborn as sns\n",
        "cm = confusion_matrix(y_test, y_pred)\n",
        "sns.heatmap(cm, annot=True, cmap='Blues', fmt='g')\n",
        "plt.xlabel('Predicted labels')\n",
        "plt.ylabel('True labels')\n",
        "plt.show()"
      ]
    },
    {
      "cell_type": "markdown",
      "metadata": {
        "id": "9Yy7zGpBFDKw"
      },
      "source": [
        "**3.5.4** Which labels seem to be harder to classify for this model? **(2pts)**"
      ]
    },
    {
      "cell_type": "markdown",
      "metadata": {
        "id": "iIQSz9mRFDKw"
      },
      "source": [
        "/ # TODO"
      ]
    },
    {
      "cell_type": "markdown",
      "metadata": {
        "id": "FbVPl5QAFDKw"
      },
      "source": [
        "Labels 0, 1, 5 (corresponding to 3, 4, 8) are hard to classify in this model. Because the predict labels only classify the labels 2, 3, 4, but there are some labels should be in labels 0, 1, 5 due to the true labels. "
      ]
    },
    {
      "cell_type": "markdown",
      "metadata": {
        "id": "znzLRqiTFDKw"
      },
      "source": [
        "## 4. Using Scikitlearn Logistic Regression (4+2+7+2 = 15pts)"
      ]
    },
    {
      "cell_type": "markdown",
      "metadata": {
        "id": "mci16Q-lFDKx"
      },
      "source": [
        "### 4.1 Import LogisticRegressionCV module and create an instance of it. (4pts)\n",
        "Use the following parameters:\n",
        "1. 5-fold crossvalidation, \n",
        "2. lbfgs solver, \n",
        "3. run for 1000 iterations \n",
        "4. use 'multinomial' for choosing softmax classifier  "
      ]
    },
    {
      "cell_type": "code",
      "execution_count": 35,
      "metadata": {
        "id": "i4G_HtW4FDKx"
      },
      "outputs": [],
      "source": [
        "# TODO\n",
        "from sklearn.linear_model import LogisticRegressionCV\n",
        "lrcv = LogisticRegressionCV(cv=5, solver='lbfgs', max_iter=1000, multi_class='multinomial')"
      ]
    },
    {
      "cell_type": "markdown",
      "metadata": {
        "id": "By6DrbjBFDKx"
      },
      "source": [
        "### 4.2 Train the model and predict the labels for test set. (2pts) "
      ]
    },
    {
      "cell_type": "code",
      "execution_count": 36,
      "metadata": {
        "id": "CJYL2yKCFDKx",
        "colab": {
          "base_uri": "https://localhost:8080/"
        },
        "outputId": "487ff2e6-b5e6-414d-9b9c-3722ff7cefb5"
      },
      "outputs": [
        {
          "output_type": "stream",
          "name": "stderr",
          "text": [
            "/usr/local/lib/python3.9/dist-packages/sklearn/model_selection/_split.py:700: UserWarning: The least populated class in y has only 4 members, which is less than n_splits=5.\n",
            "  warnings.warn(\n"
          ]
        }
      ],
      "source": [
        "# TODO\n",
        "lrcv.fit(X_train, y_train)\n",
        "y_pred_lrcv = lrcv.predict(X_test)"
      ]
    },
    {
      "cell_type": "markdown",
      "metadata": {
        "id": "gLj2LIr-FDKx"
      },
      "source": [
        "### 4.3 Compute the accuracy, precision, recall and F1 scores. Also visualize the confusion matrix. (1+1+1+1+3 =7pts) "
      ]
    },
    {
      "cell_type": "code",
      "execution_count": 37,
      "metadata": {
        "id": "WCJN8r6dFDKy",
        "colab": {
          "base_uri": "https://localhost:8080/",
          "height": 410
        },
        "outputId": "076954e8-85d3-4a2e-c7d7-3a7835980f99"
      },
      "outputs": [
        {
          "output_type": "stream",
          "name": "stderr",
          "text": [
            "/usr/local/lib/python3.9/dist-packages/sklearn/metrics/_classification.py:1344: UndefinedMetricWarning: Precision is ill-defined and being set to 0.0 in labels with no predicted samples. Use `zero_division` parameter to control this behavior.\n",
            "  _warn_prf(average, modifier, msg_start, len(result))\n"
          ]
        },
        {
          "output_type": "stream",
          "name": "stdout",
          "text": [
            "Accuracy: 0.5346\n",
            "Precision: 0.5351\n",
            "Recall: 0.5346\n",
            "F1 Score: 0.5064\n"
          ]
        },
        {
          "output_type": "display_data",
          "data": {
            "text/plain": [
              "<Figure size 432x288 with 2 Axes>"
            ],
            "image/png": "[encoded data removed]"
          },
          "metadata": {
            "needs_background": "light"
          }
        }
      ],
      "source": [
        "# TODO\n",
        "acc = accuracy_score(y_test, y_pred_lrcv)\n",
        "prec = precision_score(y_test, y_pred_lrcv, average='weighted')\n",
        "rec = recall_score(y_test, y_pred_lrcv, average='weighted')\n",
        "f1 = f1_score(y_test, y_pred_lrcv, average='weighted')\n",
        "\n",
        "print(f\"Accuracy: {acc:.4f}\")\n",
        "print(f\"Precision: {prec:.4f}\")\n",
        "print(f\"Recall: {rec:.4f}\")\n",
        "print(f\"F1 Score: {f1:.4f}\")\n",
        "\n",
        "# Compute confusion matrix\n",
        "cm_lrcv = confusion_matrix(y_test, y_pred_lrcv)\n",
        "\n",
        "# Plot confusion matrix\n",
        "cm_lrcv = confusion_matrix(y_test, y_pred_lrcv)\n",
        "sns.heatmap(cm_lrcv, annot=True, cmap='Blues', fmt='g')\n",
        "plt.xlabel('Predicted labels')\n",
        "plt.ylabel('True labels')\n",
        "plt.show()"
      ]
    },
    {
      "cell_type": "markdown",
      "metadata": {
        "id": "TcVnJsPHFDKy"
      },
      "source": [
        "### 4.4 Did your previous model (built from scratch) and the model from scikitlearn library produced similar evaluation scores? (2pts)\n",
        "\n",
        "Explain (in <100 words) the similarity and dissimilarity in score. What changed, what didn't, and why?"
      ]
    },
    {
      "cell_type": "markdown",
      "metadata": {
        "id": "oXwZniQfFDKy"
      },
      "source": [
        "/ # TODO\n",
        "\n",
        "The accuracy obtained from my logistic regression model and the scikit-learn model are similar, which means both models have a same overall correctness. However, the scikit-learn model has higher precision and recall than my model.This is because the scikit-learn model uses optimization algorithms, regularization parameters, or additive tuning of hyperparameters to improve the model's ability to correctly identify positive samples, while maintaining similar overall performance."
      ]
    },
    {
      "cell_type": "markdown",
      "metadata": {
        "id": "egxDH0npFDKy"
      },
      "source": [
        "## 5. Using Scikitlearn Multi-layer Perceptron (16+19 = 35pts)"
      ]
    },
    {
      "cell_type": "markdown",
      "metadata": {
        "id": "mNPljr88FDKz"
      },
      "source": [
        "### 5.1 MLP with one hidden layer and stochastic gradient descent optimizer (4+2+1+7+2 = 16pts)"
      ]
    },
    {
      "cell_type": "markdown",
      "metadata": {
        "id": "K2yILVL9FDKz"
      },
      "source": [
        "**5.1.1** Import MLPClassifier from scikitlearn's neural_network library. Then create a model instance of this classifier.\n",
        "\n",
        "Use the following parameters: \n",
        "1. One hidden layer with 100 neurons, \n",
        "2. ReLu activation, \n",
        "3. Stochastic Gradient Descent solver\n",
        "4. Learning rate = 0.01 (or you can continue to use your previous learning rate)\n",
        "5. No of epoch = 1000\n",
        "\n",
        "Also, set random_state to a fixed value so that your result is reproducible. **(4pts)** "
      ]
    },
    {
      "cell_type": "code",
      "execution_count": 38,
      "metadata": {
        "id": "ak9ETRqZFDKz"
      },
      "outputs": [],
      "source": [
        "# TODO\n",
        "from sklearn.neural_network import MLPClassifier\n",
        "mlp = MLPClassifier(hidden_layer_sizes=(100,), activation='relu', solver='sgd', learning_rate_init=0.01, max_iter=1000, random_state=42)"
      ]
    },
    {
      "cell_type": "markdown",
      "metadata": {
        "id": "V10HnbxeFDKz"
      },
      "source": [
        "**5.1.2** Train the model with training set.\n",
        "Then predict the labels for test set. **(2pts)**"
      ]
    },
    {
      "cell_type": "code",
      "execution_count": 39,
      "metadata": {
        "id": "gDe1haJyFDK0"
      },
      "outputs": [],
      "source": [
        "# TODO\n",
        "# Train the model\n",
        "mlp.fit(X_train, y_train)\n",
        "\n",
        "# Predict the labels for test set\n",
        "y_pred_mlp = mlp.predict(X_test)"
      ]
    },
    {
      "cell_type": "markdown",
      "metadata": {
        "id": "fuFPJUjkFDK0"
      },
      "source": [
        "**5.1.3** Plot the loss curve **(1pt)**"
      ]
    },
    {
      "cell_type": "code",
      "execution_count": 47,
      "metadata": {
        "id": "P8L9OD69FDK0",
        "colab": {
          "base_uri": "https://localhost:8080/",
          "height": 295
        },
        "outputId": "ea788f46-ec4a-485b-96df-96c989aa4343"
      },
      "outputs": [
        {
          "output_type": "display_data",
          "data": {
            "text/plain": [
              "<Figure size 432x288 with 1 Axes>"
            ],
            "image/png": "[encoded data removed]"
          },
          "metadata": {
            "needs_background": "light"
          }
        }
      ],
      "source": [
        "# TODO\n",
        "plt.plot(mlp.loss_curve_)\n",
        "plt.title('MLP(one layer) Loss Curve')\n",
        "plt.xlabel('Number of Iterations')\n",
        "plt.ylabel('Loss')\n",
        "plt.show()"
      ]
    },
    {
      "cell_type": "markdown",
      "metadata": {
        "id": "6KyX6tkxFDK0"
      },
      "source": [
        "**5.1.4** Print the accuracy, precision, recall and F1 scores. Also show the confusion matrix. **(1+1+1+1+3 = 7pts)**"
      ]
    },
    {
      "cell_type": "code",
      "execution_count": 41,
      "metadata": {
        "id": "tUdnlRquFDK0",
        "colab": {
          "base_uri": "https://localhost:8080/",
          "height": 407
        },
        "outputId": "2b475bbe-e7fe-4d98-95ab-4a3d5151b87a"
      },
      "outputs": [
        {
          "output_type": "stream",
          "name": "stderr",
          "text": [
            "/usr/local/lib/python3.9/dist-packages/sklearn/metrics/_classification.py:1344: UndefinedMetricWarning: Precision is ill-defined and being set to 0.0 in labels with no predicted samples. Use `zero_division` parameter to control this behavior.\n",
            "  _warn_prf(average, modifier, msg_start, len(result))\n"
          ]
        },
        {
          "output_type": "stream",
          "name": "stdout",
          "text": [
            "Accuracy: 0.5615384615384615\n",
            "Precision: 0.5503561827047087\n",
            "Recall: 0.5615384615384615\n",
            "F1 Score: 0.5441699202514731\n"
          ]
        },
        {
          "output_type": "display_data",
          "data": {
            "text/plain": [
              "<Figure size 432x288 with 2 Axes>"
            ],
            "image/png": "[encoded data removed]"
          },
          "metadata": {
            "needs_background": "light"
          }
        }
      ],
      "source": [
        "# TODO\n",
        "acc = accuracy_score(y_test, y_pred_mlp)\n",
        "prec = precision_score(y_test, y_pred_mlp, average='weighted')\n",
        "rec = recall_score(y_test, y_pred_mlp, average='weighted')\n",
        "f1 = f1_score(y_test, y_pred_mlp, average='weighted')\n",
        "\n",
        "# Print accuracy, precision, recall and f1 scores\n",
        "print(\"Accuracy:\", acc)\n",
        "print(\"Precision:\", prec)\n",
        "print(\"Recall:\", rec)\n",
        "print(\"F1 Score:\", f1)\n",
        "\n",
        "# Print confusion matrix\n",
        "cm_mlp = confusion_matrix(y_test, y_pred_mlp)\n",
        "sns.heatmap(cm_mlp, annot=True, cmap=\"Blues\", fmt='g')\n",
        "plt.xlabel('Predicted labels')\n",
        "plt.ylabel('True labels')\n",
        "plt.show()"
      ]
    },
    {
      "cell_type": "markdown",
      "metadata": {
        "id": "s4hKx3izFDK0"
      },
      "source": [
        "**5.1.5** Did you see any change in scores after using the MLP classifier?\n",
        "\n",
        "In <100 words, describe your observation. **(2pts)**\n",
        "\n",
        "Compared with Logistic Regression, the Accuracy, Precision, and Recall obtained by using the MLP (1 hidden layer) Classifier model are slightly higher. This is because an MLP classifier is a neural network-based model that better captures non-linear relationships in the data than logistic regression, which is a linear model."
      ]
    },
    {
      "cell_type": "markdown",
      "metadata": {
        "id": "haBDFgTkFDK1"
      },
      "source": [
        "/ # TODO"
      ]
    },
    {
      "cell_type": "markdown",
      "metadata": {
        "id": "7yAqIC9-FDK1"
      },
      "source": [
        "### 5.2 MLP with two hidden layer and adam optimizer (4+2+1+7+2+3 = 19pts)"
      ]
    },
    {
      "cell_type": "markdown",
      "metadata": {
        "id": "6FihvFPOFDK1"
      },
      "source": [
        "**5.2.1** Import MLPClassifier from scikitlearn's neural_network library. Then create a model instance of this classifier.\n",
        "\n",
        "Use the following parameters: \n",
        "1. **Two** hidden layers with 100 neurons, \n",
        "2. ReLu activation, \n",
        "3. Adam solver (this is an advanced optimizer which we did not cover in class. However the usage is quite straightforward)\n",
        "4. Learning rate = 0.01 (or you can continue to use your previous learning rate)\n",
        "5. No of epoch = 1000\n",
        "\n",
        "Also, set random_state to a fixed value so that your result is reproducible. **(4pts)** \n",
        "\n",
        "(Refer to the scikitlearn documentation for clarification on the parameters)"
      ]
    },
    {
      "cell_type": "code",
      "execution_count": 42,
      "metadata": {
        "id": "azfypb_wFDK1"
      },
      "outputs": [],
      "source": [
        "# TODO\n",
        "from sklearn.neural_network import MLPClassifier\n",
        "mlp_thl = MLPClassifier(hidden_layer_sizes=(100, 100), activation='relu', solver='adam', learning_rate_init=0.01, max_iter=1000, random_state=42)"
      ]
    },
    {
      "cell_type": "markdown",
      "metadata": {
        "id": "4dRNbVd3FDK1"
      },
      "source": [
        "**5.2.2** Train the model with training set.\n",
        "Then predict the labels for test set. **(2pts)**"
      ]
    },
    {
      "cell_type": "code",
      "execution_count": 43,
      "metadata": {
        "id": "SZm-_R06FDK1"
      },
      "outputs": [],
      "source": [
        "# TODO\n",
        "mlp_thl.fit(X_train, y_train)\n",
        "y_pred_thl = mlp_thl.predict(X_test)"
      ]
    },
    {
      "cell_type": "markdown",
      "metadata": {
        "id": "MiYq2JpxFDK2"
      },
      "source": [
        "**5.2.3** Plot the loss curve **(1pt)**"
      ]
    },
    {
      "cell_type": "code",
      "execution_count": 46,
      "metadata": {
        "id": "G4G8LmYIFDK2",
        "colab": {
          "base_uri": "https://localhost:8080/",
          "height": 295
        },
        "outputId": "3314eb83-53d1-49e7-fd42-6da2458f78be"
      },
      "outputs": [
        {
          "output_type": "display_data",
          "data": {
            "text/plain": [
              "<Figure size 432x288 with 1 Axes>"
            ],
            "image/png": "[encoded data removed]"
          },
          "metadata": {
            "needs_background": "light"
          }
        }
      ],
      "source": [
        "# TODO\n",
        "plt.plot(mlp_thl.loss_curve_)\n",
        "plt.title('MLP(two layers) Loss Curve')\n",
        "plt.xlabel('Number of Iterations')\n",
        "plt.ylabel('Loss')\n",
        "plt.show()"
      ]
    },
    {
      "cell_type": "markdown",
      "metadata": {
        "id": "U1ujPpg7FDK2"
      },
      "source": [
        "**5.2.4** Print the accuracy, precision, recall and F1 scores. Also show the confusion matrix. **(1+1+1+1+3 = 7pts)**"
      ]
    },
    {
      "cell_type": "code",
      "execution_count": 45,
      "metadata": {
        "id": "UabQQn8tFDK2",
        "colab": {
          "base_uri": "https://localhost:8080/",
          "height": 407
        },
        "outputId": "b0f65343-3c37-4de0-b93a-d16dcdf5e14f"
      },
      "outputs": [
        {
          "output_type": "stream",
          "name": "stderr",
          "text": [
            "/usr/local/lib/python3.9/dist-packages/sklearn/metrics/_classification.py:1344: UndefinedMetricWarning: Precision is ill-defined and being set to 0.0 in labels with no predicted samples. Use `zero_division` parameter to control this behavior.\n",
            "  _warn_prf(average, modifier, msg_start, len(result))\n"
          ]
        },
        {
          "output_type": "stream",
          "name": "stdout",
          "text": [
            "Accuracy: 0.6007692307692307\n",
            "Precision: 0.6049328568331065\n",
            "Recall: 0.6007692307692307\n",
            "F1 Score: 0.6014343131738111\n"
          ]
        },
        {
          "output_type": "display_data",
          "data": {
            "text/plain": [
              "<Figure size 432x288 with 2 Axes>"
            ],
            "image/png": "[encoded data removed]"
          },
          "metadata": {
            "needs_background": "light"
          }
        }
      ],
      "source": [
        "# TODO\n",
        "acc = accuracy_score(y_test, y_pred_thl)\n",
        "prec = precision_score(y_test, y_pred_thl, average='weighted')\n",
        "rec = recall_score(y_test, y_pred_thl, average='weighted')\n",
        "f1 = f1_score(y_test, y_pred_thl, average='weighted')\n",
        "\n",
        "# Print accuracy, precision, recall and f1 scores\n",
        "print(\"Accuracy:\", acc)\n",
        "print(\"Precision:\", prec)\n",
        "print(\"Recall:\", rec)\n",
        "print(\"F1 Score:\", f1)\n",
        "\n",
        "# Print confusion matrix\n",
        "cm_thl = confusion_matrix(y_test, y_pred_thl)\n",
        "sns.heatmap(cm_thl, annot=True, cmap=\"Blues\", fmt='g')\n",
        "plt.xlabel('Predicted labels')\n",
        "plt.ylabel('True labels')\n",
        "plt.show()"
      ]
    },
    {
      "cell_type": "markdown",
      "metadata": {
        "id": "Ge5kpYACFDK2"
      },
      "source": [
        "**5.2.5** Describe any difference in the loss curve from MLP with one hidden layer and MLP with two hidden layer. **(2pts)**\n",
        "\n"
      ]
    },
    {
      "cell_type": "markdown",
      "metadata": {
        "id": "qiQUBL6OFDK2"
      },
      "source": [
        "/ # TODO\n",
        "\n",
        "The MLP with two hidden layers shows more fluctuations compared to the MLP with one hidden layer. This is because MLP with 2 layers has higher complexity and convergence, this cause it performs a steeper loss descent over time and reach lower minimum loss value."
      ]
    },
    {
      "cell_type": "markdown",
      "metadata": {
        "id": "bN6aAc34FDK2"
      },
      "source": [
        "**5.2.6** Did you see any change in scores between the two MLP models?\n",
        "\n",
        "In <100 words, describe your observation. **(3pts)**\n",
        "\n",
        "MLP with two hidden layers performs higher Accuracy, Precision, Recall compared to MLP with one hidden layer. This is because an MLP with two hidden layers has a more complex architecture than an MLP with one hidden layer, which enables it to learn more complex and non-linear relationships in the dataset."
      ]
    },
    {
      "cell_type": "markdown",
      "metadata": {
        "id": "G8ox4KsnFDK2"
      },
      "source": [
        "/ # TODO"
      ]
    }
  ],
  "metadata": {
    "kernelspec": {
      "display_name": "kd",
      "language": "python",
      "name": "python3"
    },
    "language_info": {
      "codemirror_mode": {
        "name": "ipython",
        "version": 3
      },
      "file_extension": ".py",
      "mimetype": "text/x-python",
      "name": "python",
      "nbconvert_exporter": "python",
      "pygments_lexer": "ipython3",
      "version": "3.9.12"
    },
    "orig_nbformat": 4,
    "colab": {
      "provenance": []
    }
  },
  "nbformat": 4,
  "nbformat_minor": 0
}